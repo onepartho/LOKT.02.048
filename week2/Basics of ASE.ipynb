{
 "cells": [
  {
   "cell_type": "markdown",
   "metadata": {},
   "source": [
    "The Atomic Simulation Environment (ASE) is a set of tools and Python modules for setting up, manipulating, running, visualizing and analyzing atomistic simulations.\n",
    "\n",
    "https://wiki.fysik.dtu.dk/ase/"
   ]
  },
  {
   "cell_type": "code",
   "execution_count": 5,
   "metadata": {
    "collapsed": true
   },
   "outputs": [],
   "source": [
    "#Impordime vajalikud teegid\n",
    "from ase.build import bulk, molecule\n",
    "from ase.io import write\n",
    "from gpaw import GPAW\n",
    "from gpaw.elf import ELF\n",
    "from gpaw.test import equal\n",
    "from gpaw.mpi import rank"
   ]
  },
  {
   "cell_type": "code",
   "execution_count": 4,
   "metadata": {
    "collapsed": true
   },
   "outputs": [],
   "source": [
    "#Oluline vaid visualiseerimiseks\n",
    "from IPython.display import HTML\n",
    "def atoms_to_html(atoms):\n",
    "    'Return the html representation the atoms object as string'\n",
    "\n",
    "    from tempfile import NamedTemporaryFile\n",
    "\n",
    "    with NamedTemporaryFile('r+', suffix='.html') as ntf:\n",
    "        atoms.write(ntf.name, format='html')\n",
    "        ntf.seek(0)\n",
    "        html = ntf.read()\n",
    "    return `html`"
   ]
  },
  {
   "cell_type": "markdown",
   "metadata": {},
   "source": [
    "### Atoms\n",
    "\n",
    "The Atoms object is a collection of atoms. Here is how to define a N2 molecule by directly specifying the position of two nitrogen atoms:"
   ]
  },
  {
   "cell_type": "code",
   "execution_count": 12,
   "metadata": {
    "collapsed": true
   },
   "outputs": [],
   "source": [
    "from ase import Atoms\n",
    "d = 1.10\n",
    "molecule = Atoms('2N', positions=[(0., 0., 0.), (0., 0., d)])"
   ]
  },
  {
   "cell_type": "code",
   "execution_count": null,
   "metadata": {},
   "outputs": [],
   "source": [
    "#HTML(atoms_to_html(molecule))"
   ]
  },
  {
   "cell_type": "markdown",
   "metadata": {},
   "source": [
    "Use a built in method to build a molecule"
   ]
  },
  {
   "cell_type": "code",
   "execution_count": 15,
   "metadata": {},
   "outputs": [],
   "source": [
    "from ase.build import molecule\n",
    "water = molecule('H2O')\n",
    "water.center(vacuum=3.5)\n",
    "#HTML(atoms_to_html(water))\n"
   ]
  },
  {
   "cell_type": "code",
   "execution_count": 10,
   "metadata": {},
   "outputs": [],
   "source": [
    "#define the calculator\n",
    "calc = GPAW(h=0.18, xc='PBE', txt='h2o.txt')\n",
    "water.set_calculator(calc)\n",
    "water.get_potential_energy()\n",
    "\n",
    "#wite .cube info about electron localization to a file\n",
    "elf = ELF(calc)\n",
    "elf.initialize(calc)\n",
    "elf.update()\n",
    "elf_g = elf.get_electronic_localization_function(gridrefinement=2)\n",
    "write('h2o.cube', water, data=elf_g)"
   ]
  },
  {
   "cell_type": "markdown",
   "metadata": {},
   "source": [
    "Defining another molecule"
   ]
  },
  {
   "cell_type": "code",
   "execution_count": 16,
   "metadata": {},
   "outputs": [],
   "source": [
    "from ase.build import molecule\n",
    "sys = molecule('C6H6')\n",
    "sys.center(vacuum=3.5)\n",
    "#HTML(atoms_to_html(sys))\n"
   ]
  },
  {
   "cell_type": "code",
   "execution_count": 18,
   "metadata": {},
   "outputs": [],
   "source": [
    "calc = GPAW(h=0.18, xc='PBE', txt='c6h6.txt')\n",
    "sys.set_calculator(calc)\n",
    "sys.get_potential_energy()\n",
    "\n",
    "elf = ELF(calc)\n",
    "elf.initialize(calc)\n",
    "elf.update()\n",
    "elf_g = elf.get_electronic_localization_function(gridrefinement=2)\n",
    "write('c6h6.cube', sys, data=elf_g)"
   ]
  },
  {
   "cell_type": "markdown",
   "metadata": {},
   "source": [
    "Defining a graphene sheet"
   ]
  },
  {
   "cell_type": "code",
   "execution_count": 21,
   "metadata": {},
   "outputs": [],
   "source": [
    "from ase.build.surface import hcp0001\n",
    "from math import sqrt\n",
    "\n",
    "a = 2.461\n",
    "c = 6.708\n",
    "sys = hcp0001('C', a=a/sqrt(3), c=c, vacuum=c/4., size=(4,4,1), orthogonal=True)\n",
    "#HTML(atoms_to_html(sys))"
   ]
  },
  {
   "cell_type": "code",
   "execution_count": 22,
   "metadata": {
    "collapsed": true
   },
   "outputs": [],
   "source": [
    "calc = GPAW(h=0.18, xc='PBE', txt='gr.txt')\n",
    "sys.set_calculator(calc)\n",
    "sys.get_potential_energy()\n",
    "\n",
    "elf = ELF(calc)\n",
    "elf.initialize(calc)\n",
    "elf.update()\n",
    "elf_g = elf.get_electronic_localization_function(gridrefinement=2)\n",
    "write('gr.cube', sys, data=elf_g)\n"
   ]
  },
  {
   "cell_type": "markdown",
   "metadata": {},
   "source": [
    "Defining a diamond"
   ]
  },
  {
   "cell_type": "code",
   "execution_count": 29,
   "metadata": {},
   "outputs": [],
   "source": [
    "from ase.build import bulk\n",
    "sys = bulk('C', 'diamond', a=3.57, cubic=True)\n",
    "sys *= (1, 1, 1)\n",
    "#HTML(atoms_to_html(sys))"
   ]
  },
  {
   "cell_type": "code",
   "execution_count": 30,
   "metadata": {
    "collapsed": true
   },
   "outputs": [],
   "source": [
    "calc = GPAW(h=0.18, xc='PBE', txt='c.txt')\n",
    "sys.set_calculator(calc)\n",
    "sys.get_potential_energy()\n",
    "\n",
    "elf = ELF(calc)\n",
    "elf.initialize(calc)\n",
    "elf.update()\n",
    "elf_g = elf.get_electronic_localization_function(gridrefinement=2)\n",
    "write('c.cube', sys, data=elf_g)"
   ]
  },
  {
   "cell_type": "markdown",
   "metadata": {},
   "source": [
    "Defining a bulk metal"
   ]
  },
  {
   "cell_type": "code",
   "execution_count": 31,
   "metadata": {
    "collapsed": true
   },
   "outputs": [],
   "source": [
    "from ase.build import bulk\n",
    "\n",
    "sys = bulk(\"Li\", \"bcc\", a=3.51, cubic=True)\n",
    "sys *= (2, 2, 2)\n",
    "#HTML(atoms_to_html(sys))"
   ]
  },
  {
   "cell_type": "code",
   "execution_count": 32,
   "metadata": {
    "collapsed": true
   },
   "outputs": [],
   "source": [
    "\n",
    "calc = GPAW(h=0.18, xc='PBE', txt='li.txt')\n",
    "sys.set_calculator(calc)\n",
    "sys.get_potential_energy()\n",
    "\n",
    "elf = ELF(calc)\n",
    "elf.initialize(calc)\n",
    "elf.update()\n",
    "elf_g = elf.get_electronic_localization_function(gridrefinement=2)\n",
    "write('li.cube', sys, data=elf_g)"
   ]
  },
  {
   "cell_type": "code",
   "execution_count": null,
   "metadata": {
    "collapsed": true
   },
   "outputs": [],
   "source": []
  }
 ],
 "metadata": {
  "kernelspec": {
   "display_name": "Python 3",
   "language": "python",
   "name": "python3"
  },
  "language_info": {
   "codemirror_mode": {
    "name": "ipython",
    "version": 2
   },
   "file_extension": ".py",
   "mimetype": "text/x-python",
   "name": "python",
   "nbconvert_exporter": "python",
   "pygments_lexer": "ipython2",
   "version": "2.7.13"
  }
 },
 "nbformat": 4,
 "nbformat_minor": 2
}
