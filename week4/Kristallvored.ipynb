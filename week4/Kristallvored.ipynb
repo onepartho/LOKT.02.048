{
 "cells": [
  {
   "cell_type": "code",
   "execution_count": null,
   "metadata": {
    "collapsed": false
   },
   "outputs": [],
   "source": [
    "from ase.lattice import bulk\n",
    "from ase import Atoms\n",
    "from ase.lattice.hexagonal import *\n",
    "from ase.visualize import view\n",
    "from ase.calculators.eam import EAM\n",
    "from gpaw import GPAW,PW\n",
    "import matplotlib.pyplot as plt\n",
    "import math\n",
    "import warnings\n",
    "from IPython.display import Image\n",
    "warnings.filterwarnings('ignore')"
   ]
  },
  {
   "cell_type": "code",
   "execution_count": null,
   "metadata": {
    "collapsed": true
   },
   "outputs": [],
   "source": [
    "#MOLECULE VIEWER CODE\n",
    "from IPython.display import HTML\n",
    "def atoms_to_html(atoms):\n",
    "    'Return the html representation the atoms object as string'\n",
    "\n",
    "    from tempfile import NamedTemporaryFile\n",
    "\n",
    "    with NamedTemporaryFile('r+', suffix='.html') as ntf:\n",
    "        atoms.write(ntf.name, format='html')\n",
    "        ntf.seek(0)\n",
    "        html = ntf.read()\n",
    "    return html"
   ]
  },
  {
   "cell_type": "markdown",
   "metadata": {},
   "source": [
    "# Kristallvõred"
   ]
  },
  {
   "cell_type": "markdown",
   "metadata": {},
   "source": [
    "ase.lattice.bulk võimaldab lihtsalt koostada ühikrakke. Argumentiks peab andma elemendi sümboli ning defineerima võretüübi. \n",
    "Aktsepteeritud võretüübid on: sc, fcc, bcc, hcp, diamond, zincblende, rocksalt, cesiumchloride, fluorite ja wurtzite.\n",
    "Levinud kristallide jaoks on võreparameetrid moodulile teada, kui neid ei ole, siis tuleb nad defineerida."
   ]
  },
  {
   "cell_type": "code",
   "execution_count": null,
   "metadata": {
    "collapsed": false
   },
   "outputs": [],
   "source": [
    "D = bulk('C', 'diamond', cubic=True)    #Süsinik, teemanti struktuuriga, koostame kuubikujulise raku\n",
    "D=D.repeat((1,1,1))                     #Süsteemi saab suurendada ühikrakku korrates\n",
    "HTML(atoms_to_html(D))                  #Visualiseerime saadud süsteemi"
   ]
  },
  {
   "cell_type": "code",
   "execution_count": null,
   "metadata": {
    "collapsed": false
   },
   "outputs": [],
   "source": [
    "Cu = bulk('Cu', 'fcc', a=3.6)    #Vask, kuubilises tihepakendis\n",
    "Cu=Cu.repeat((3,3,3))            #Süsteemi saab suurendada ühikrakku korrates\n",
    "HTML(atoms_to_html(Cu))          #Visualiseerime saadud süsteemi"
   ]
  },
  {
   "cell_type": "markdown",
   "metadata": {},
   "source": [
    "ase.lattice mooduliga saab koostada ka neid võresid, mida ase.lattice.bulk moodulis defineeritud pole.\n",
    "Võimalikud on:\n",
    "\n",
    "lattice.cubic\n",
    "\n",
    "    SimpleCubic\n",
    "    FaceCenteredCubic\n",
    "    BodyCenteredCubic\n",
    "    Diamond (*)\n",
    "\n",
    "lattice.tetragonal\n",
    "\n",
    "    SimpleTetragonal\n",
    "    CenteredTetragonal\n",
    "\n",
    "lattice.orthorhombic\n",
    "\n",
    "    SimpleOrthorhombic\n",
    "    BaseCenteredOrthorhombic\n",
    "    FaceCenteredOrthorhombic\n",
    "    BodyCenteredOrthorhombic\n",
    "\n",
    "lattice.monoclinic\n",
    "\n",
    "    SimpleMonoclinic\n",
    "    BaseCenteredMonoclinic\n",
    "\n",
    "lattice.triclinic\n",
    "\n",
    "    Triclinic\n",
    "\n",
    "lattice.hexagonal\n",
    "\n",
    "    Hexagonal\n",
    "    HexagonalClosedPacked (*)\n",
    "    Graphite (*)"
   ]
  },
  {
   "cell_type": "markdown",
   "metadata": {},
   "source": [
    "Koostame ase.lattice.hexagonal mooduli abil grafiidi.\n",
    "Vaja on defineerida, nagu enne, elemendi sümbol ning võrekonstandid.\n",
    "Erinevalt bulk moodulist tuleb saab teistes ase.lattice alammoodulites otse defineerida süsteemi suuruse."
   ]
  },
  {
   "cell_type": "code",
   "execution_count": null,
   "metadata": {
    "collapsed": false
   },
   "outputs": [],
   "source": [
    "Gr = Graphite(symbol='C',latticeconstant={'a':2.461,'c':6.708},size=(1,1,1))\n",
    "HTML(atoms_to_html(Gr.repeat((2,2,2))))"
   ]
  },
  {
   "cell_type": "markdown",
   "metadata": {},
   "source": [
    "ase.lattice moodulis on ka defineeritud mõningaid binaarseid ühikrakke:\n",
    "\n",
    "    B1 = NaCl = Rocksalt\n",
    "    B2 = CsCl\n",
    "    B3 = ZnS = Zincblende\n",
    "    L1_2 = AuCu3\n",
    "    L1_0 = AuCu\n",
    "  \n",
    "ase.lattice.bulk moodulis on defineeritud zincblende, rocksalt, cesiumchloride, fluorite ja wurtzite."
   ]
  },
  {
   "cell_type": "code",
   "execution_count": null,
   "metadata": {
    "collapsed": false
   },
   "outputs": [],
   "source": [
    "ZnS = bulk('ZnS', 'zincblende', a = 5.0, cubic=True)\n",
    "HTML(atoms_to_html(ZnS.repeat((2,2,2))))"
   ]
  },
  {
   "cell_type": "code",
   "execution_count": null,
   "metadata": {
    "collapsed": false
   },
   "outputs": [],
   "source": [
    "NaCl = bulk('NaCl', 'rocksalt', a = 5.0, cubic=True)\n",
    "HTML(atoms_to_html(NaCl.repeat((2,2,2))))"
   ]
  },
  {
   "cell_type": "code",
   "execution_count": null,
   "metadata": {
    "collapsed": false
   },
   "outputs": [],
   "source": [
    "CsCl = bulk('CsCl', 'cesiumchloride', a = 5.0, cubic=True)\n",
    "HTML(atoms_to_html(CsCl.repeat((2,2,2))))"
   ]
  },
  {
   "cell_type": "code",
   "execution_count": null,
   "metadata": {
    "collapsed": false
   },
   "outputs": [],
   "source": [
    "FeS = bulk('FeS', 'wurtzite', a = 5.0)\n",
    "HTML(atoms_to_html(FeS.repeat((2,3,2))))"
   ]
  },
  {
   "cell_type": "markdown",
   "metadata": {},
   "source": [
    "Süsteemid, mida ase.lattice moodulis kirjeldatud ei ole, tuleb defineerida käsitsi. Ehk tuleb kasutada ase.Atoms moodulit.\n",
    "\n",
    "ase.Atoms moodulis defineeritakse kõigi aatomite elemendid, nende aatomite asukohad, ühikraku suurus ning perioodilisus. Põhimõtteliselt pole vahet, kas kasutada ase.Atoms või ase.lattice moodulit, viimane on lihtsalt mugavam.\n",
    "\n",
    "Nt järgmine koodijupp defineerib 1-dimensionaalselt perioodilise kuldketi."
   ]
  },
  {
   "cell_type": "code",
   "execution_count": null,
   "metadata": {
    "collapsed": false
   },
   "outputs": [],
   "source": [
    "d = 2.9                                          #Au-Au sideme pikkus\n",
    "L = 10.0                                         #Ühikraku x ja y mõõde\n",
    "wire = Atoms('Au',                               #Element on kuld\n",
    "             positions=[[0, L / 2, L / 2]],      #Kulla aatomi x,y,z koordinaadid\n",
    "             cell=[d, L, L],                     #Ühikraku parameetrid\n",
    "             pbc=[1, 0, 0])                      #Perioodilisus ainult x-dimensioonis\n",
    "wire.translate((0,-L/2,-L/2))                    #Viime aatomi koordinaatteljestiku keskele\n",
    "HTML(atoms_to_html(wire.repeat((6,1,1))))        #Visualiseerime"
   ]
  },
  {
   "cell_type": "markdown",
   "metadata": {},
   "source": [
    "Raskem näide: raudboriid, Fe$_{2}$B. Üritame reprodutseerida joonisel olevat ühikrakku."
   ]
  },
  {
   "cell_type": "code",
   "execution_count": null,
   "metadata": {
    "collapsed": false
   },
   "outputs": [],
   "source": [
    "Image(\"Fe2B.png\")"
   ]
  },
  {
   "cell_type": "markdown",
   "metadata": {},
   "source": [
    "Joonisel on mitmed aatomid jagamisel mitme ühikraku vahel. Näiteks risttahuka tahul asetsevad aatomid on jagatud kahe ühikraku vahel. Servades paiknevad aatomid on jagatud nelja ühikraku vahel. Ühikraku tippudes paiknevad aatomid oleksid jagatud kaheksa ühikraku vahel.  \n",
    "\n",
    "Seda peab ühikraku koostamisel silmas pidama, sest koostatud ühikrakku korrates ükskõik mis suunas ei taha me luua aatomeid topelt. Need aatomid, mis on ühikraku sees, võib defineerida muretult (antud juhul keskmised neli Fe aatomit ning kaks B aatomit)."
   ]
  },
  {
   "cell_type": "code",
   "execution_count": null,
   "metadata": {
    "collapsed": false,
    "scrolled": true
   },
   "outputs": [],
   "source": [
    "a=5.2  #võreparameeter a\n",
    "b=3.8  #võreparameeter b\n",
    "c=4.8  #võreparameeter c\n",
    "x=2.5  #Fe antiprismiaatilise ruudu küljepikkus\n",
    "\n",
    "#Lihtsuse mõttes defineerime raua tasandid alguses eraldi.\n",
    "#Lisaks on lihtsam defineerida tasandeid, mis on paralleelsed ühikraku vektoritega. \n",
    "\n",
    "Fe_up = Atoms('FeFe',                           #Ülemine Fe \"ruut\" joonisel\n",
    "             positions=[[(a-x)/2.,(b-x)/2.,c],  #Defineerima kaks aatomit neljast, sest neid jagatakse\n",
    "             [(a-x)/2.,(b-x)/2.+x,c]],\n",
    "             cell=[a, b, c],                    #Võreparameetrid on mugav sisestada muutujatena  \n",
    "             pbc=[1, 1, 1])                     #Ühikrakk on igas suunas perioodiline\n",
    "\n",
    "Fe_mid = Atoms('FeFeFeFe',                      #Keskmine Fe ruut\n",
    "             positions=[[(a-x)/2.,(b-x)/2.,1/2.*c], \n",
    "             [(a-x)/2.,(b-x)/2.+x,1/2.*c],      #Kõik aatomid on ainult selle ühikraku omad\n",
    "             [(a-x)/2.+x,(b-x)/2.,1/2.*c],      #seega sisestame kõigi koordinaadid\n",
    "             [(a-x)/2.+x,(b-x)/2.+x,1/2.*c]],\n",
    "             cell=[a, b, c],                     \n",
    "             pbc=[1, 1, 1])\n",
    "\n",
    "Fe_down = Atoms('FeFe',                         #Alumine Fe ruut\n",
    "             positions=[[(a-x)/2.+x,(b-x)/2.+x,0],\n",
    "             [(a-x)/2.+x,(b-x)/2.,0]],          #Tuleb taas defineerida ainult 2/4 Fe aatomit\n",
    "             cell=[a, b, c],                    #ning ülemine ja alumine osa peavad omavahel sobima\n",
    "             pbc=[1, 1, 1])\n",
    "\n",
    "#Ülemine ja alumine ruut on 45/2=22.5 kraadi \"viltu\" z-telje suhtes.\n",
    "Fe_up.rotate(22.5,\"z\", center=\"COM\", rotate_cell=False)\n",
    "Fe_down.rotate(22.5,\"z\", center=\"COM\", rotate_cell=False)\n",
    "\n",
    "#Keskmine ruut on 90-(45/2)=67.5 kraadi \"viltu\" z-telje suhtes.\n",
    "Fe_mid.rotate(67.5,\"z\", center=\"COM\", rotate_cell=False)\n",
    "\n",
    "Fe=Fe_up+Fe_down+Fe_mid                         #Liidame rauatasandid kokku\n",
    "\n",
    "HTML(atoms_to_html(Fe.repeat((1,1,2)))) "
   ]
  },
  {
   "cell_type": "code",
   "execution_count": null,
   "metadata": {
    "collapsed": false
   },
   "outputs": [],
   "source": [
    "#Booride lisamisel tuleb kindlasti defineerida mõlemad kesksed aatomid.\n",
    "#Lisaks tuleb valida kaheksast servapealsest välja kaks boori lisaks.\n",
    "B = Atoms('BBBB',                               #Defineerime booride asukohad\n",
    "             positions=[[1/2.*a,1/2.*b,1/4.*c],\n",
    "             [1/2.*a,1/2.*b,3/4.*c],\n",
    "             [0,b,3/4.*c],\n",
    "             [a,0,1/4.*c]],\n",
    "             cell=[a, b, c],                     \n",
    "             pbc=[1, 1, 1])\n",
    "\n",
    "Fe2B=Fe+B                                       #Lisame boorid rauale\n",
    "HTML(atoms_to_html(Fe2B.repeat((1,1,2))))       #Valmis!"
   ]
  },
  {
   "cell_type": "markdown",
   "metadata": {
    "collapsed": true
   },
   "source": [
    "# Võreparameetri optimeerimine"
   ]
  },
  {
   "cell_type": "markdown",
   "metadata": {},
   "source": [
    "Eesmärk: leida räni teemantstruktuuri võreparameeter.\n",
    "\n",
    "#1 Leiame olemasoleva süsiniku teemantstruktuuri võreparameetri"
   ]
  },
  {
   "cell_type": "code",
   "execution_count": null,
   "metadata": {
    "collapsed": false
   },
   "outputs": [],
   "source": [
    "C_diamond = bulk('C', 'diamond', cubic=True)              #Defineerime teemati\n",
    "print(C_diamond.get_cell())                               #Väljastame ühikraku parameetrid\n",
    "a=C_diamond.get_cell()[0][0]                              #Salvestame võreparameetri muutujasse a\n",
    "print(\"Teemanti võreparameeter on %.2f Angstromit.\" % a)  #Kontrollime, kas saime a kätte"
   ]
  },
  {
   "cell_type": "markdown",
   "metadata": {},
   "source": [
    "#2 Koostame räni teemanti võreparameetriga a"
   ]
  },
  {
   "cell_type": "code",
   "execution_count": null,
   "metadata": {
    "collapsed": false,
    "scrolled": true
   },
   "outputs": [],
   "source": [
    "Si_diamond = bulk('Si', 'diamond', a=a, cubic=True)      #Defineerime teemati\n",
    "#Si_diamond.set_pbc([1,1,1])                             #Perioodilisuse lisamine, kui on vaja. bulk moodulis pole vaja.\n",
    "HTML(atoms_to_html(Si_diamond.repeat((2,2,2))))          #Visualiseerime"
   ]
  },
  {
   "cell_type": "markdown",
   "metadata": {},
   "source": [
    "#3 Arvutame saadud teemanti energia"
   ]
  },
  {
   "cell_type": "code",
   "execution_count": null,
   "metadata": {
    "collapsed": false
   },
   "outputs": [],
   "source": [
    "#Si_diamond=Si_diamond.repeat((2,2,2))                  #Kasutame arvutusteks suuremat süsteemi\n",
    "Si_diamond.set_calculator(GPAW(xc='LDA', mode=PW(150), txt='h2.txt')) #Defineerime arvutusmeetodi.\n",
    "Si_diamond.get_potential_energy()                       #Käivitame arvutuse"
   ]
  },
  {
   "cell_type": "markdown",
   "metadata": {},
   "source": [
    "Hmm, positiivne potentsiaalne energia pole üldiselt hea märk. Tõenäoliselt on räni ühikrakk suurem kui süsiniku oma. \n",
    "#4 Koostame \"for\"-tsükli, millega suurendame järk-järgult võreparameetrit. Arvutame igal sammul energia"
   ]
  },
  {
   "cell_type": "code",
   "execution_count": null,
   "metadata": {
    "collapsed": false
   },
   "outputs": [],
   "source": [
    "energies=[]                                               #Teeme listi energiate hoiustamiseks\n",
    "lattice_params=[]                                         #Teeme listi võreparameetrite hoiustamiseks\n",
    "\n",
    "for i in range(6):                                        #Valime mitu sammu tehakse                       \n",
    "  a=4.5+0.5*i                                             #Arvutame muutuja i abil uue võreparameetri\n",
    "  Si_diamond = bulk('Si', 'diamond', a=a, cubic=True)     #Defineerime uue võreparameetriga struktuuri\n",
    "  Si_diamond.set_calculator(GPAW(xc='LDA', mode=PW(100), txt='h2.txt')) #Defineerime arvutusmeetodi\n",
    "  energy=Si_diamond.get_potential_energy()                #Arvutame potentsiaalse energia\n",
    "    \n",
    "  energies.append(energy)                                 #Salvestame arvutustulemuse listi\n",
    "  lattice_params.append(a)                                #Salvestame võreparameetri listi"
   ]
  },
  {
   "cell_type": "markdown",
   "metadata": {},
   "source": [
    "#5 Visualiseerime tulemused"
   ]
  },
  {
   "cell_type": "code",
   "execution_count": null,
   "metadata": {
    "collapsed": false
   },
   "outputs": [],
   "source": [
    "plt.plot(lattice_params,energies,linewidth=2,marker=\"d\")  #Teeme graafiku kasutades liste\n",
    "plt.axvline(x=5.43, color=\"black\",linestyle='dashed')     #Lisame graafikule eksperimentaalse tulemuse\n",
    "plt.annotate(\"Exp. value\",xy=(5.5,-25))                   #Kirjutame teksti graafikule\n",
    "plt.xlabel(\"Lattice parameter / A\")                       #x-telje pealkiri\n",
    "plt.ylabel(\"Potential energy / eV\")                       #y-telje pealkiri"
   ]
  },
  {
   "cell_type": "code",
   "execution_count": null,
   "metadata": {
    "collapsed": true
   },
   "outputs": [],
   "source": []
  }
 ],
 "metadata": {
  "kernelspec": {
   "display_name": "Python 3",
   "language": "python",
   "name": "python3"
  },
  "language_info": {
   "codemirror_mode": {
    "name": "ipython",
    "version": 3
   },
   "file_extension": ".py",
   "mimetype": "text/x-python",
   "name": "python",
   "nbconvert_exporter": "python",
   "pygments_lexer": "ipython3",
   "version": "3.6.3"
  }
 },
 "nbformat": 4,
 "nbformat_minor": 1
}
