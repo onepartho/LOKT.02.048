{
 "cells": [
  {
   "cell_type": "markdown",
   "metadata": {},
   "source": [
    "# NaCl example"
   ]
  },
  {
   "cell_type": "markdown",
   "metadata": {},
   "source": [
    "Import modules"
   ]
  },
  {
   "cell_type": "code",
   "execution_count": 1,
   "metadata": {
    "collapsed": false
   },
   "outputs": [],
   "source": [
    "from ase import Atoms\n",
    "from ase.constraints import FixAtoms\n",
    "from ase.io import write, read\n",
    "from ase.optimize import QuasiNewton\n",
    "from ase.units import Bohr\n",
    "from ase.visualize import view\n",
    "from gpaw import GPAW, FermiDirac, PoissonSolver, Mixer, setup_paths, restart\n",
    "from gpaw.xc.functional import XCFunctional\n",
    "from gpaw.xc.hybridg import HybridXC\n",
    "from gpaw.xc.sic import SIC\n",
    "from gpaw.test import equal\n",
    "from gpaw.xc.tools import vxc\n",
    "from gpaw.wavefunctions.pw import PW\n",
    "from math import sqrt"
   ]
  },
  {
   "cell_type": "markdown",
   "metadata": {},
   "source": [
    "Define NaCl geometry"
   ]
  },
  {
   "cell_type": "code",
   "execution_count": 3,
   "metadata": {
    "collapsed": false
   },
   "outputs": [],
   "source": [
    "pair = Atoms('NaCl', positions=[(0, 0, 0),(0, 0, 2.82)])\n",
    "pair.set_pbc((False, False, False))\n",
    "pair.center(vacuum=5)"
   ]
  },
  {
   "cell_type": "markdown",
   "metadata": {},
   "source": [
    "View NaCl geometry"
   ]
  },
  {
   "cell_type": "code",
   "execution_count": 4,
   "metadata": {
    "collapsed": false
   },
   "outputs": [],
   "source": [
    "view(pair)"
   ]
  },
  {
   "cell_type": "markdown",
   "metadata": {},
   "source": [
    "Define calculator and run simple PBE calculation"
   ]
  },
  {
   "cell_type": "code",
   "execution_count": null,
   "metadata": {
    "collapsed": false
   },
   "outputs": [],
   "source": [
    "calc = GPAW(xc='PBE',\n",
    "            mode='fd',\n",
    "            h=0.14,\n",
    "            txt='NaCl-PBE.txt',\n",
    "            basis='dzp')\n",
    "pair.set_calculator(calc)\n",
    "pair.get_potential_energy()\n",
    "pair.calc.write('NaCl-PBE.gpw', mode='all')\n",
    "density = calc.get_all_electron_density(gridrefinement=4) * Bohr**3\n",
    "write('NaCl-PBE.cube', pair, data=density)"
   ]
  },
  {
   "cell_type": "markdown",
   "metadata": {},
   "source": [
    "Define calculator and run PBE calculation with Self-Interaction Error Correction (SIC):"
   ]
  },
  {
   "cell_type": "code",
   "execution_count": null,
   "metadata": {
    "collapsed": false
   },
   "outputs": [],
   "source": [
    "calc = GPAW(#xc=SIC(),\n",
    "            xc='PBE-PZ-SIC',\n",
    "            eigensolver='rmm-diis',\n",
    "            mode='fd',\n",
    "            h=0.14,\n",
    "            txt='NaCl-SIC.txt',\n",
    "            #setups='hgh',\n",
    "            basis='dzp')\n",
    "pair.set_calculator(calc)\n",
    "pair.get_potential_energy()\n",
    "pair.calc.write('NaCl-SIC.gpw', mode='all')\n",
    "density = calc.get_all_electron_density(gridrefinement=4) * Bohr**3\n",
    "write('NaCl-SIC.cube', pair, data=density)"
   ]
  },
  {
   "cell_type": "markdown",
   "metadata": {},
   "source": [
    "Define calculator and run GLLB-SC calculation:"
   ]
  },
  {
   "cell_type": "code",
   "execution_count": null,
   "metadata": {
    "collapsed": false
   },
   "outputs": [],
   "source": [
    "calc = GPAW(xc='GLLBSC',\n",
    "            eigensolver='rmm-diis',\n",
    "            mode='fd',\n",
    "            h=0.14,\n",
    "            txt='NaCl-GLLBSC.txt',\n",
    "            convergence={'bands':-4},\n",
    "            #mixer=Mixer(beta=0.03, nmaxold=5, weight=100.0),\n",
    "            basis='dzp')\n",
    "pair.set_calculator(calc)\n",
    "pair.get_potential_energy()\n",
    "pair.calc.write('NaCl-GLLBSC.gpw', mode='all')\n",
    "density = calc.get_all_electron_density(gridrefinement=4) * Bohr**3\n",
    "write('NaCl-GLLBSC.cube', pair, data=density)"
   ]
  },
  {
   "cell_type": "markdown",
   "metadata": {},
   "source": [
    "Define calculator and run PBE0 calculation:"
   ]
  },
  {
   "cell_type": "code",
   "execution_count": null,
   "metadata": {
    "collapsed": false
   },
   "outputs": [],
   "source": [
    "calc = GPAW(xc='PBE0',\n",
    "            mode='fd',\n",
    "            h=0.14,\n",
    "            nbands=16,\n",
    "            eigensolver='rmm-diis',\n",
    "            txt='NaCl-PBE0.txt',\n",
    "            #mixer=Mixer(beta=0.05, nmaxold=5, weight=50.0),\n",
    "            basis='dzp')\n",
    "pair.set_calculator(calc)\n",
    "pair.get_potential_energy()\n",
    "pair.calc.write('NaCl-PBE0.gpw', mode='all')\n",
    "density = calc.get_all_electron_density(gridrefinement=4) * Bohr**3\n",
    "write('NaCl-PBE0.cube', pair, data=density)"
   ]
  }
 ],
 "metadata": {
  "anaconda-cloud": {},
  "kernelspec": {
   "display_name": "Python 3",
   "language": "python",
   "name": "python3"
  },
  "language_info": {
   "codemirror_mode": {
    "name": "ipython",
    "version": 3
   },
   "file_extension": ".py",
   "mimetype": "text/x-python",
   "name": "python",
   "nbconvert_exporter": "python",
   "pygments_lexer": "ipython3",
   "version": "3.6.3"
  }
 },
 "nbformat": 4,
 "nbformat_minor": 0
}
