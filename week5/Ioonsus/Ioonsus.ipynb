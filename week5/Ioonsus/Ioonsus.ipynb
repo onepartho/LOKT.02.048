{
 "cells": [
  {
   "cell_type": "markdown",
   "metadata": {},
   "source": [
    "# NaCl ioonsus"
   ]
  },
  {
   "cell_type": "markdown",
   "metadata": {},
   "source": [
    "Kui küsida koolilapselt, mis on naatriumkloriidis kloori ja naatriumi laengud, siis ta teab kohe, et need on $-1$ ja $1$. Keerukatesse füüsikaliste mõõtmismeetoditesse tungimata, saaks eelnevale väitele varju heita näiteks kristallograafiast tuntud nähtuste abil.\n",
    "\n",
    "Ioonilised ained esinevad tahkes olekus kristallidena, mida iseloomustab kõrge korrapära. Struktureeritus võimaldab ioonilist kristalli kirjeldada atomistilike mõõtmetega ühikraku abil, mille kordamisel igas suunas saame makroskoopilise reaalse kristalli.\n",
    "\n",
    "Sõltuvalt ioonide suurustest ning laengutest moodustuvad erinevad kristallvõred nõnda, et elektrostaatilised interaktsioonid vastavas süsteemis oleks tugevaimaid. Kui eeldada täielikku ioonset sidet, siis peaks samasuguste suuruse- ning laengusuhetega katioonid/anioonid moodustama eranditult identseid ioonvõresid. \n",
    "\n",
    "Näiteks naatriumkloriidi tüüpi võres moodustab üks ioon kuubilise tihepakendi ning vastasioon täitab kõiki oktagonaalseid tühimikke. Saavuatakse (6,6)-koordinatsioon. Sellise võre moodustavad paljud kristallid nt NaCl, KBr, AgCl, MgO, CaC2, KCN, etc. Selles võres on tüüpiliselt katiooni/aniooni raadiuste suhe vahemikus 0.414-0.732 ning ioonide laengud suhtuvad 1:1.\n",
    "\n",
    "Seevastu nikkelarseniid ja nikkelsulfiid, millel on samauti 1:1 laengute suhe ning samas vahemikus katiooni/aniooni raadiuste suhe, moodustavad hoopis deformeerunud heksagonaalse kristallvõre. Vastasioonid täidavad samuti oktagonaalseid tühimikke ning seega on koordinatsiooniarv identne NaCl võrele.\n",
    "\n",
    "Miks siis NiAs ja NiS moodustavad Coulomb'i seaduse järgi energeetiliselt ebastabiilsema kristallvõre? Parim loogiline põhjendus on kovalentse sideme esinemine. Erinevalt ioonilisest sidemest on kovalentne side suunaline, mis tuleneb orbitaalide ruumilisest paigutusest. See energia, mida NiAs ja NiS kaotavad elektrostaatikast, võidavad nad orbitaalide kattumisega tulenevast energiaefektist.\n",
    "\n",
    "Kui kahe erineva elektronegatiivsusega elemendi aatomi vahel on kovalentne side, siis on teada, et elektronpilv nihkub pigem elektronegatiivsema aatomi suunas. Mis suunas ja ulatuses võiks aga toimuda laenguülekanne katiooni ja aniooni vahel? Vaatleme seda naatriumkloriidi näitel."
   ]
  },
  {
   "cell_type": "code",
   "execution_count": null,
   "metadata": {
    "collapsed": false
   },
   "outputs": [],
   "source": [
    "#IMPORT MODULES\n",
    "from ase import Atoms\n",
    "from ase.build import bulk\n",
    "from ase.constraints import FixAtoms\n",
    "from ase.io import write, read\n",
    "from ase.optimize import QuasiNewton\n",
    "from ase.units import Bohr\n",
    "from ase.visualize import view\n",
    "from gpaw import GPAW, FermiDirac, PoissonSolver, Mixer, setup_paths, restart\n",
    "from gpaw.lcao.tools import remove_pbc, get_lcao_hamiltonian\n",
    "from gpaw.xc.functional import XCFunctional\n",
    "#from gpaw.xc.hybridg import HybridXC\n",
    "from gpaw.test import equal\n",
    "from gpaw.xc.tools import vxc\n",
    "from gpaw.wavefunctions.pw import PW\n",
    "from math import sqrt\n",
    "import os\n",
    "import numpy as np\n",
    "import matplotlib.pyplot as plt\n",
    "from ase.io.cube import read_cube_data\n",
    "from mendeleev import Na\n",
    "from mendeleev import Cl\n",
    "import warnings\n",
    "warnings.filterwarnings('ignore')\n",
    "import matplotlib.colors as colors\n",
    "from matplotlib.mlab import bivariate_normal"
   ]
  },
  {
   "cell_type": "code",
   "execution_count": null,
   "metadata": {
    "collapsed": true
   },
   "outputs": [],
   "source": [
    "#MOLECULE VIEWER CODE\n",
    "from IPython.display import HTML\n",
    "def atoms_to_html(atoms):\n",
    "    'Return the html representation the atoms object as string'\n",
    "\n",
    "    from tempfile import NamedTemporaryFile\n",
    "\n",
    "    with NamedTemporaryFile('r+', suffix='.html') as ntf:\n",
    "        atoms.write(ntf.name, format='html')\n",
    "        ntf.seek(0)\n",
    "        html = ntf.read()\n",
    "    return html"
   ]
  },
  {
   "cell_type": "markdown",
   "metadata": {},
   "source": [
    "Laenguülekanne võiks olla proportsionaalne elementide elektronegatiivsuste vahega ning pöördvõrdeline nende kõvaduse summaga. Paulingi skaalas on kahe aatomi elektronegatiivsuste vahe energiavõit, mille need elemendid saavad heteronukleaarse sideme moodustamisel (vs vastavad homonukleaarsed sidemed). Paulingi skaalas on enamustele elementidele elektronegatiivsused teada. Kõvadus avaldub kui:\n",
    "\n",
    "$\\displaystyle\\eta=\\frac{1}{2}\\frac{\\partial{\\,^2E}}{\\partial{N\\,^2}}\\,_Z$\n",
    "\n",
    "Kuna kõvaduse numbrilisi väärtuseid otseselt teada ei ole, siis teeme lihtsustuse, et nad sõltuvad samuti vastava elemendi elektronegatiivsusest.\n",
    "\n",
    "$\\displaystyle\\Delta q = \\frac{\\chi_{\\,1}-\\chi_{\\,2}}{\\eta_{\\,1}+\\eta_{\\,2}} \\approx \\frac{\\chi_{\\,1}-\\chi_{\\,2}}{\\chi_{\\,1}+\\chi_{\\,2}}$\n",
    "\n"
   ]
  },
  {
   "cell_type": "code",
   "execution_count": null,
   "metadata": {
    "collapsed": false
   },
   "outputs": [],
   "source": [
    "na_en=Na.electronegativity(scale='pauling')\n",
    "cl_en=Cl.electronegativity(scale='pauling')\n",
    "\n",
    "delta_q=(na_en-cl_en)/(na_en+cl_en)\n",
    "print(\"Kloori osalaeng: %.2f, naatriumi osalaeng %.2f.\"%(delta_q, -delta_q))"
   ]
  },
  {
   "cell_type": "markdown",
   "metadata": {},
   "source": [
    "Mulliken pakkus välja absoluutse elektronegatiivsuste skaala, kus elemendi elektronegatiivsus on tema ionisatsioonienergia ja elektronafiinsuse aritmeetiline keskmine:\n",
    "\n",
    "$\\displaystyle\\chi =  \\frac{\\text{IE}+\\text{EA}}{2}$\n",
    "\n",
    "Kõvaduse valemit saab diferentseerida kolme määratud punkti abil -- üks elektron rohkem, üks elektron vähem ja tavaline valentsolek:\n",
    "\n",
    "$\\displaystyle\\eta=\\frac{1}{2}\\frac{\\partial{\\,^2E}}{\\partial{N\\,^2}}\\,_Z \\approx \\frac{E_{N+1}-2E_{N}+E_{N-1}}{2}$\n",
    "\n",
    "Definitsiooni alusel on $E_{N-1}-E_N=\\text{IE}$ ja $E_{N}-E_{N+1}=\\text{EA}$, seega:\n",
    "\n",
    "$\\displaystyle\\eta \\approx \\frac{\\text{IE}-\\text{EA}}{2}$\n",
    "\n",
    "Rakendame Mullikeni elektronegatiivsustega taas laenguülekande valemit, seekord kasutades kõvadusi:\n",
    "\n",
    "$\\displaystyle\\Delta q = \\frac{\\chi_{\\,1}-\\chi_{\\,2}}{\\eta_{\\,1}+\\eta_{\\,2}}$"
   ]
  },
  {
   "cell_type": "code",
   "execution_count": null,
   "metadata": {
    "collapsed": false
   },
   "outputs": [],
   "source": [
    "na_ie=Na.ionenergies[1]\n",
    "cl_ie=Cl.ionenergies[1]\n",
    "na_ea=Na.electron_affinity\n",
    "cl_ea=Cl.electron_affinity\n",
    "\n",
    "na_chi=(na_ie+na_ea)/2\n",
    "cl_chi=(cl_ie+cl_ea)/2\n",
    "na_eta=(na_ie-na_ea)/2\n",
    "cl_eta=(cl_ie-cl_ea)/2\n",
    "\n",
    "delta_q=(na_chi-cl_chi)/(na_eta+cl_eta)\n",
    "print(\"Kloori osalaeng: %.2f, naatriumi osalaeng %.2f.\"%(delta_q, -delta_q))"
   ]
  },
  {
   "cell_type": "code",
   "execution_count": null,
   "metadata": {
    "collapsed": false
   },
   "outputs": [],
   "source": [
    "correction=1.0\n",
    "while correction < 0.01:\n",
    "  correction=14.4*(delta_q**2)/2.82\n",
    "  delta_q=(na_chi-cl_chi)/(na_eta+cl_eta+correction) \n",
    "  print(correction)\n",
    "print(delta_q)"
   ]
  },
  {
   "cell_type": "markdown",
   "metadata": {},
   "source": [
    "Nüüd siis DFT juurde. Arvutame NaCl ioonpaari vaakumis ning arvutame osalaengud. \n",
    "\n",
    "Osalaengute arvutamiseks on kolme tüüpi meetodeid:\n",
    "\n",
    " - Baasifunktsioonidel põhinevad laengujaotused -- lokaliseeritakse molekulaarorbitaalid aatomitele. Kvantkeemia või DFT arvutustest on teada orbitaalide asustused, seega saab lugeda kokku antud aatomile kuuluvate elektronide arvu ja lahutada maha tuumalaengu. Antud lähenemise põhiliseks puuduseks on see, et ühe aatomi elektrontihedus võib olla osaliselt kirjeldatud teise aatomi baasifunktsioonidega. See puudus on on tingitud arvutuskeemia fundamendaalsetest alustest: me ei tea kunagi \"õiget\" lainefunktsiooni.\n",
    " \n",
    " - Elektrostaatilise potentsiaali meetodid -- defineeritakse molekulist veidi eemal pind, millel arvutatakse erinevates punktides elektrostaatiline potentsiaal, mida elektrontihedus talle avaldab. Järgnevalt vaadeldakse olukorda, kus selle sama pinna sees on elektrontiheduse asemel punktlaengud nendes kohtades, kus olid varem tuumad. Üritatakse reprodutseerida elektrontiheduse elektrostaatilist potentsiaalijaotust antud pinnal, muutes punktlaengute väärtuseid. See lähenemine ei kirjelda hästi suurte molekulide keskmisi aatomeid ning võib anda erinevaid laenguid sõltuvalt konformatsioonist (nt metüülrühma vesinikud võivad saada veidi erineva osalaengu). \n",
    " \n",
    " - Elektrontiheduse gradiendi analüüs -- elektrontiheduse väärtuse ja selle muutumise järgi jagatakse ruum aatomite vahel ära. Eeldatakse, et aatomituumade juures on elektrontihedus maksimaalne. Sinna, kus kahe tuuma vahel esineb elektrontiheduse miinimum, tõmmatakse piirid. See lähenemisviis on kõige paremini põhjendatud, kuid samuti ka kõige kulukam.\n",
    " \n",
    " \n",
    "Arvutame NaCl Mullikeni ja CHELPG osalaengud. Esimene põhineb baasifunktsioonidel põhinev ning teine elektrostaatilise potentsiaali reprodutseerimisel."
   ]
  },
  {
   "cell_type": "code",
   "execution_count": null,
   "metadata": {
    "collapsed": false
   },
   "outputs": [],
   "source": [
    "#Defineerime geomeetria\n",
    "pair = Atoms('NaCl', positions=[(0, 0, 0),(0, 0, 2.82)])\n",
    "write(\"NaCl.xyz\", pair)\n",
    "pair.set_pbc((False, False, False))\n",
    "pair.center(vacuum=5)\n",
    "HTML(atoms_to_html(pair))"
   ]
  },
  {
   "cell_type": "markdown",
   "metadata": {},
   "source": [
    "Kuna Mullikeni ja CHELPG osalaenguid ASE-s ega GPAW-s defineeritud ei ole, siis kutsume välja teise arvutusprogrammi, Orca. Kasutame dzp baasi ja PBE funktsionaali ning seda geomeetriat, mille me ASE-ga just salvestasime."
   ]
  },
  {
   "cell_type": "code",
   "execution_count": null,
   "metadata": {
    "collapsed": false
   },
   "outputs": [],
   "source": [
    "%%bash\n",
    ". ~/.bashrc\n",
    "/home/user/storage/software/orca_4/orca orca.inp > orca.out"
   ]
  },
  {
   "cell_type": "markdown",
   "metadata": {},
   "source": [
    "Loeme saadud tulemusfaili orca.out"
   ]
  },
  {
   "cell_type": "code",
   "execution_count": null,
   "metadata": {
    "collapsed": false
   },
   "outputs": [],
   "source": [
    "f=open(\"orca.out\").readlines()   #f on list, milles iga element on rida failist\n",
    "for n in range(len(f)):          #Teeme tsükli ridade lugemiseks\n",
    "  #Kui meid huvitavad osalaengud on antud real kirjas, siis ...\n",
    "  if \"CHELPG Charges\" in f[n] or \"MULLIKEN ATOMIC CHARGES\" in f[n]: \n",
    "    #... prindime kuus rida alates leitud märksõnast\n",
    "    for i in range(6):\n",
    "      print(f[n+i])"
   ]
  },
  {
   "cell_type": "markdown",
   "metadata": {
    "collapsed": false
   },
   "source": [
    "Mõlemad osalaengud ennustavad küllaltki suurt laenguülekannet kloriidioonilt tagasi naatriumile.\n",
    "\n",
    "Kuna naatrium ja kloor on mõlemad kolmanda perioodi elemendid ning me anname neile mõlemale sama suure baaslainefunktsioonide komplekti (dzp). Naatrium, olles lahutanud elektroni, on [Xe] elektronkonfiguratsiooniga samas kui kloor liites elektrooni savutab [Ar] elektronkonfiguratsiooni.\n",
    "\n",
    "Tulemuseks on see, et tõenäolieslt kirjeldatakse osa kloori laengutihetust hoopis naatriumile kuuluvate baaslainefunktsioonidega. Sellest tulenevalt on saadud Mullikeni osalaeng nii madal. Seega on tõenäoliselt usaldusväärsem CHELPG osalaeng.\n",
    "\n",
    "Katsetame ka arvutada Baderi osalaengut, mis põhineb elektrontiheduse gradiendi jaotamisel. Baderi analüüsi teostamiseks on vaja arvutusest väljastada elektrontiheduse fail (.cube formaat). Teeme seda GPAW-ga, kasutame analoogseid arvutusparameetreid kui enne: PBE funkstionaal ja dzp baas."
   ]
  },
  {
   "cell_type": "code",
   "execution_count": null,
   "metadata": {
    "collapsed": false
   },
   "outputs": [],
   "source": [
    "#Define calculator and run simple PBE calculation\n",
    "calc = GPAW(xc='PBE',\n",
    "            mode='lcao',\n",
    "            h=0.3,\n",
    "            txt='NaCl-PBE.txt',\n",
    "            basis='dzp')\n",
    "pair.set_calculator(calc)\n",
    "pair.get_potential_energy()\n",
    "pair.calc.write('NaCl-PBE.gpw', mode='all')\n",
    "\n",
    "#Peale arvutust väljastame ka elektrontiheduse\n",
    "density = calc.get_all_electron_density(gridrefinement=4) * Bohr**3\n",
    "#Salvestame tulemuse cube faili\n",
    "write('NaCl-PBE.cube', pair, data=density)"
   ]
  },
  {
   "cell_type": "markdown",
   "metadata": {},
   "source": [
    "Kutsume välja Baderi analüüsiprogrammi ja anname talle ette saadud faili."
   ]
  },
  {
   "cell_type": "code",
   "execution_count": null,
   "metadata": {
    "collapsed": false
   },
   "outputs": [],
   "source": [
    "%%bash\n",
    ". ~/.bashrc\n",
    "/home/user/LOKT.02.048/week5/bader -p all_atom -p atom_index NaCl-PBE.cube"
   ]
  },
  {
   "cell_type": "markdown",
   "metadata": {},
   "source": [
    "Prindime Baderi analüüsi tulemusfaili."
   ]
  },
  {
   "cell_type": "code",
   "execution_count": null,
   "metadata": {
    "collapsed": false
   },
   "outputs": [],
   "source": [
    "f=open(\"ACF.dat\").read()\n",
    "print(f)"
   ]
  },
  {
   "cell_type": "markdown",
   "metadata": {},
   "source": [
    "Arvutame elektronide arvust ioonide osalaengud"
   ]
  },
  {
   "cell_type": "code",
   "execution_count": null,
   "metadata": {
    "collapsed": false
   },
   "outputs": [],
   "source": [
    "f=open(\"ACF.dat\").readlines()\n",
    "\n",
    "Na_electrons=float(f[2].split()[4])\n",
    "Cl_electrons=float(f[3].split()[4])\n",
    "\n",
    "Na_protons=11\n",
    "Cl_protons=17\n",
    "\n",
    "print(\"Naatriumil on %.2f elektroni ja klooril %.2f elektroni.\"%(Na_electrons,Cl_electrons))\n",
    "print(\"Naatriumi osalaeng on %.2f ja kloori osalaeng %.2f.\"%(Na_protons-Na_electrons, Cl_protons-Cl_electrons))"
   ]
  },
  {
   "cell_type": "markdown",
   "metadata": {},
   "source": [
    "Visualiseerime järgnevalt leitud NaCl elektrontiheduse läbilõike kontuurgraafikuna, kasutades cube-faili, ning lisame joonisele Baderi leitud piiri."
   ]
  },
  {
   "cell_type": "code",
   "execution_count": null,
   "metadata": {
    "collapsed": false
   },
   "outputs": [],
   "source": [
    "dens, atoms = read_cube_data('NaCl-PBE.cube')   \n",
    "bader, atoms = read_cube_data('AtIndex.cube')     \n",
    "x = len(dens) // 2 \n",
    "dens = dens[x]\n",
    "bader = bader[x]\n",
    "\n",
    "x0, y0, z0 = atoms.positions[0]\n",
    "y = np.linspace(0, atoms.cell[1, 1], len(dens), endpoint=False) - y0\n",
    "z = np.linspace(0, atoms.cell[2, 2], len(dens[0]), endpoint=False) - z0\n",
    "#print(y.shape, z.shape, dens.shape, bader.shape)\n",
    "#print(atoms.positions)\n",
    "#print(dens.min(), dens.mean(), dens.max())\n",
    "plt.figure(figsize=(8, 8))\n",
    "\n",
    "\n",
    "region=np.linspace(-3, 2, 8)\n",
    "#region=np.linspace(-3, 2, 14)     # zoom in\n",
    "region = [ 10**i for i in region]\n",
    "\n",
    "contour=plt.contour(z, y, dens, region, norm=colors.PowerNorm(gamma=1./8.))\n",
    "\n",
    "plt.contour(z, y, bader, [1.5], colors='k')\n",
    "plt.axis(xmin=-2, xmax=6, ymin=-4, ymax=4)  \n",
    "#plt.axis(xmin=-1, xmax=3, ymin=-2, ymax=2)  # zoom in\n",
    "plt.clabel(contour, inline=1, rightside_up=1, fontsize=8)\n",
    "plt.savefig('NaCl-bader.png')"
   ]
  },
  {
   "cell_type": "markdown",
   "metadata": {
    "collapsed": true
   },
   "source": [
    "Arvutasime ioonpaari vaakumis. Mis siis saab kui on tegu kristalliga? Kas te arvate, et kristallis on side ioonilisem või kovalentsem kui üksikus ioonpaaris?"
   ]
  },
  {
   "cell_type": "code",
   "execution_count": null,
   "metadata": {
    "collapsed": false
   },
   "outputs": [],
   "source": [
    "#Defineerime geomeetria\n",
    "import ase.lattice\n",
    "crystal = bulk('NaCl', 'rocksalt', a=5.64,cubic=True) \n",
    "\n",
    "HTML(atoms_to_html(crystal))"
   ]
  },
  {
   "cell_type": "code",
   "execution_count": null,
   "metadata": {
    "collapsed": false
   },
   "outputs": [],
   "source": [
    "#Define calculator and run simple PBE calculation\n",
    "calc = GPAW(xc='PBE',\n",
    "            mode='fd',\n",
    "            h=0.3,\n",
    "            kpts=(1,1,1),\n",
    "            txt='crystal-PBE.txt',\n",
    "            basis='dzp')\n",
    "crystal.set_calculator(calc)\n",
    "crystal.get_potential_energy()\n",
    "crystal.calc.write('crystal-PBE.gpw', mode='all')\n",
    "\n",
    "#Peale arvutust väljastame ka elektrontiheduse\n",
    "density_cry = calc.get_all_electron_density(gridrefinement=4) * Bohr**3\n",
    "#Salvestame tulemuse cube faili\n",
    "write('crystal-PBE.cube', pair, data=density_cry)"
   ]
  },
  {
   "cell_type": "markdown",
   "metadata": {},
   "source": [
    "Baderi analüüs"
   ]
  },
  {
   "cell_type": "code",
   "execution_count": null,
   "metadata": {
    "collapsed": false
   },
   "outputs": [],
   "source": [
    "%%bash\n",
    ". ~/.bashrc\n",
    "/home/user/LOKT.02.048/week5/bader -p all_atom -p atom_index crystal-PBE.cube"
   ]
  },
  {
   "cell_type": "markdown",
   "metadata": {},
   "source": [
    "Prindime aatomilaengud"
   ]
  },
  {
   "cell_type": "code",
   "execution_count": null,
   "metadata": {
    "collapsed": false
   },
   "outputs": [],
   "source": [
    "f=open(\"ACF.dat\").read()\n",
    "print(f)"
   ]
  },
  {
   "cell_type": "markdown",
   "metadata": {},
   "source": [
    "Tõenäoliselt perioodilisus tekitab Baderis vea. Kindlasti pole meil 800 elektroni ühes ühikrakus. Ja kindlasti pole klooril ja naatirumil võrdsed laengud. Prindime välja ruumala järgi arvutatud Baderi laengud."
   ]
  },
  {
   "cell_type": "code",
   "execution_count": null,
   "metadata": {
    "collapsed": false
   },
   "outputs": [],
   "source": [
    "f=open(\"BCF.dat\").read()\n",
    "print(f)"
   ]
  },
  {
   "cell_type": "markdown",
   "metadata": {},
   "source": [
    "Siin failis on näha kõigi leitud aatomite ruumiosade osalaengud. Osalaengud on küll ebareaalselt suured, kuid neid võib normaliseerida, arvestades, et summaarne elektronide arv peaks olema 28.\n",
    "\n",
    "Antud väljundfailist on näha veel üks viga: aatomitel numbriga 1 on vahepeal CHARGE 72, vahepeal 127. Tõenäoliselt on Bader arvanud, et mõned kloorid on hoopis naatriumid ja vastupidi.\n",
    "\n",
    "Arvestades, et kõik ~72 elektroniga aatomid on naatriumid ja ~127 elektroniga laengud on kloorid, võime summeerida ja normeerida laengud ning väljastada keskmise naatirumi ja kloori osalaengu."
   ]
  },
  {
   "cell_type": "code",
   "execution_count": null,
   "metadata": {
    "collapsed": false
   },
   "outputs": [],
   "source": [
    "f=open(\"BCF.dat\").readlines()\n",
    "Na_electrons=[]\n",
    "Cl_electrons=[]\n",
    "total_electrons=28\n",
    "\n",
    "for i in f[2:-1]:\n",
    "  if float(i.split()[4])<100.:\n",
    "    Na_electrons.append(float(i.split()[4]))\n",
    "  elif float(i.split()[4])>100.:\n",
    "    Cl_electrons.append(float(i.split()[4]))\n",
    "\n",
    "norm_factor=28/(sum(Na_electrons)+sum(Cl_electrons))\n",
    "Na_electrons_norm=(norm_factor*sum(Na_electrons))\n",
    "Cl_electrons_norm=(norm_factor*sum(Cl_electrons))\n",
    "\n",
    "Na_protons=11\n",
    "Cl_protons=17\n",
    "\n",
    "print(\"Naatriumil on %.2f elektroni ja klooril %.2f elektroni.\"%(Na_electrons_norm,Cl_electrons_norm))\n",
    "print(\"Naatriumi osalaeng on %.2f ja kloori osalaeng %.2f.\"%(Na_protons-Na_electrons_norm, Cl_protons-Cl_electrons_norm))"
   ]
  },
  {
   "cell_type": "markdown",
   "metadata": {
    "collapsed": false
   },
   "source": [
    "Visualiseerime ühikraku laengutiheduse."
   ]
  },
  {
   "cell_type": "code",
   "execution_count": null,
   "metadata": {
    "collapsed": false
   },
   "outputs": [],
   "source": [
    "dens, atoms = read_cube_data('crystal-PBE.cube')   \n",
    "bader, atoms = read_cube_data('AtIndex.cube')     \n",
    "x = len(dens) // 2 \n",
    "dens = dens[x]\n",
    "bader = bader[x]\n",
    "\n",
    "x0, y0, z0 = atoms.positions[0]\n",
    "y = np.linspace(0, atoms.cell[1, 1], len(dens), endpoint=False) - y0\n",
    "z = np.linspace(0, atoms.cell[2, 2], len(dens[0]), endpoint=False) - z0\n",
    "#print(y.shape, z.shape, dens.shape, bader.shape)\n",
    "#print(atoms.positions)\n",
    "#print(dens.min(), dens.mean(), dens.max())\n",
    "plt.figure(figsize=(8, 8))\n",
    "\n",
    "\n",
    "region=np.linspace(-3, 2, 8)\n",
    "#region=np.linspace(-3, 2, 14)     # zoom in\n",
    "region = [ 10**i for i in region]\n",
    "\n",
    "contour=plt.contour(z, y, dens, region, norm=colors.PowerNorm(gamma=1./8.))\n",
    "\n",
    "plt.contour(z, y, bader, [1.5], colors='k')\n",
    "plt.axis(xmin=-5.64, xmax=8.64, ymin=-5.64, ymax=5.64)  \n",
    "#plt.axis(xmin=-1, xmax=3, ymin=-2, ymax=2)  # zoom in\n",
    "plt.clabel(contour, inline=1, rightside_up=1, fontsize=8)\n",
    "plt.savefig('crystal-bader.png')"
   ]
  },
  {
   "cell_type": "code",
   "execution_count": null,
   "metadata": {
    "collapsed": true
   },
   "outputs": [],
   "source": []
  }
 ],
 "metadata": {
  "kernelspec": {
   "display_name": "Python 3",
   "language": "python",
   "name": "python3"
  },
  "language_info": {
   "codemirror_mode": {
    "name": "ipython",
    "version": 3
   },
   "file_extension": ".py",
   "mimetype": "text/x-python",
   "name": "python",
   "nbconvert_exporter": "python",
   "pygments_lexer": "ipython3",
   "version": "3.6.3"
  }
 },
 "nbformat": 4,
 "nbformat_minor": 2
}
