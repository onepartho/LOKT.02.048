{
 "cells": [
  {
   "cell_type": "markdown",
   "metadata": {},
   "source": [
    "# Vibrational spectra of water"
   ]
  },
  {
   "cell_type": "markdown",
   "metadata": {},
   "source": [
    "In this exercise we will compare the vibrational modes of water computed with a\n",
    "static method and with molecular dynamics. We will use DFT, DFTB and PM6 methods."
   ]
  },
  {
   "cell_type": "markdown",
   "metadata": {},
   "source": [
    "## DFT method"
   ]
  },
  {
   "cell_type": "markdown",
   "metadata": {},
   "source": [
    "Density functional theory can be used to calculate vibrational frequencies of molecules. In this example we will calculate the vibrational frequencies for a water molecule.\n",
    "First we find an optimal structure for a single water molecule. We will use GPAW calculator for this task."
   ]
  },
  {
   "cell_type": "code",
   "execution_count": null,
   "metadata": {
    "collapsed": false
   },
   "outputs": [],
   "source": [
    "from ase import *\n",
    "from ase.io import read, write\n",
    "from ase.optimize import QuasiNewton\n",
    "from ase.structure import molecule\n",
    "from gpaw import *\n",
    "from IPython.display import Image\n",
    "import warnings\n",
    "import os\n",
    "import numpy as np\n",
    "import matplotlib.pyplot as plt\n",
    "from ase.vibrations import Vibrations\n",
    "warnings.filterwarnings('ignore')"
   ]
  },
  {
   "cell_type": "code",
   "execution_count": null,
   "metadata": {
    "collapsed": false
   },
   "outputs": [],
   "source": [
    "#MOLECULE VIEWER CODE\n",
    "from IPython.display import HTML\n",
    "def atoms_to_html(atoms):\n",
    "    'Return the html representation the atoms object as string'\n",
    "\n",
    "    from tempfile import NamedTemporaryFile\n",
    "\n",
    "    with NamedTemporaryFile('r+', suffix='.html') as ntf:\n",
    "        atoms.write(ntf.name, format='html')\n",
    "        ntf.seek(0)\n",
    "        html = ntf.read()\n",
    "    return html"
   ]
  },
  {
   "cell_type": "markdown",
   "metadata": {
    "collapsed": true
   },
   "source": [
    "Teeme vee molekuli, optimeerime ja salvestame ta geomeetria."
   ]
  },
  {
   "cell_type": "code",
   "execution_count": null,
   "metadata": {
    "collapsed": false
   },
   "outputs": [],
   "source": [
    "mol = molecule('H2O', cell=[8, 8, 8], calculator=GPAW(h=.18, mode='lcao', basis='dzp', xc='PBE'))\n",
    "mol.center()\n",
    "dyn = QuasiNewton(mol, trajectory='molecule.traj')\n",
    "dyn.run(fmax=0.05)\n",
    "write('mol.xyz', mol)"
   ]
  },
  {
   "cell_type": "code",
   "execution_count": null,
   "metadata": {
    "collapsed": false
   },
   "outputs": [],
   "source": [
    "HTML(atoms_to_html(mol))"
   ]
  },
  {
   "cell_type": "markdown",
   "metadata": {},
   "source": [
    "Calculate the vibrational modes of a H<sub>2</sub>O molecule. Calculated frequencies will appear at the very end of the output. Compare them to literature values, which are 1595 cm<sup>-1</sup> for the bending mode, 3657 cm<sup>-1</sup> for the symmetric stretching mode and 3756 cm<sup>-1</sup> for the anti-symmetric stretching mode. How good is the accuracy and what are possible error sources?"
   ]
  },
  {
   "cell_type": "code",
   "execution_count": null,
   "metadata": {
    "collapsed": false
   },
   "outputs": [],
   "source": [
    "Image(\"water.png\") #Vedela faasi IR spekter\n",
    "#This IR spectrum is from the Coblentz Society's evaluated infrared reference spectra collection."
   ]
  },
  {
   "cell_type": "code",
   "execution_count": null,
   "metadata": {
    "collapsed": false,
    "scrolled": true
   },
   "outputs": [],
   "source": [
    "# Create vibration calculator\n",
    "vib = Vibrations(mol)\n",
    "vib.run()\n",
    "vib.summary(method='frederiksen') # ette antud 3 aatomit, igat nihutatakse mitu korda,\n",
    "                                #ulejaanud sel ajal paigal. Nii otsustab, kuhu suunas liigutada\n",
    "\n",
    "# Make trajectory files to visualize normal modes:\n",
    "for mode in range(9):\n",
    "    vib.write_mode(mode)"
   ]
  },
  {
   "cell_type": "markdown",
   "metadata": {},
   "source": [
    "Now we want to look at the modes to see how the atoms move. For this we use the files vib.*n*.traj where *n* is the number of the mode counted in the order they are printed out. You can look at these trajectories with the ase-gui command - click Play to play the movie. Do they look like you expected and what would you have expected (you may have learned something about symmetry groups at one point)? Did you assign the modes correctly in the previous question?"
   ]
  },
  {
   "cell_type": "code",
   "execution_count": null,
   "metadata": {
    "collapsed": false
   },
   "outputs": [],
   "source": [
    "#from subprocess import call\n",
    "#call([\"ase-gui\",\"vib.7.traj\"]) # siin saab muuta numbrit, siis saab teistsuguse v]nkumise, vaja ase gui\n"
   ]
  },
  {
   "cell_type": "markdown",
   "metadata": {},
   "source": [
    "## DFTB method"
   ]
  },
  {
   "cell_type": "markdown",
   "metadata": {},
   "source": [
    "Density Functional based Tight Binding method makes computationally feasible very large calculations. In this example we will run molecular dynamics with DFTB in order to obtain the vibrational spectra of a single water molecule.\n",
    "\n",
    "The required files and programmes can be find in the exercise directory. You will only need to execute them."
   ]
  },
  {
   "cell_type": "code",
   "execution_count": null,
   "metadata": {
    "collapsed": false
   },
   "outputs": [],
   "source": [
    "DFTB = 'mpirun -np 8 cp2k.popt IR-DFTB.in > IR-DFTB.out' \n",
    "os.system(DFTB)"
   ]
  },
  {
   "cell_type": "markdown",
   "metadata": {},
   "source": [
    "Dipole moment and derivatives are calculated in this simulation and saved in a file dip\\*traj. From these outputs, dipole.x computes the autocorrelation function of the dipole derivative and its Fourier transform (frequency domain)."
   ]
  },
  {
   "cell_type": "code",
   "execution_count": null,
   "metadata": {
    "collapsed": false
   },
   "outputs": [],
   "source": [
    "dipole = './dipole.x < dipole.in'\n",
    "os.system(dipole)"
   ]
  },
  {
   "cell_type": "markdown",
   "metadata": {},
   "source": [
    "Let us plot the result"
   ]
  },
  {
   "cell_type": "code",
   "execution_count": null,
   "metadata": {
    "collapsed": false
   },
   "outputs": [],
   "source": [
    "data = np.genfromtxt(\"dip_dip_correlation.freq\", delimiter=28, skip_header=1)\n",
    "\n",
    "freq = [row[0] for row in data]\n",
    "intv = [row[1] for row in data]\n",
    "\n",
    "plt.plot(freq, intv)\n",
    "plt.xlabel('frequency (1/cm)')\n",
    "plt.xlim([4000,1000])\n",
    "plt.ylabel('correlation (a.u.)')\n",
    "plt.savefig(\"IR-DFTB-mol.png\")\n",
    "#Image(\"IR-DFTB-mol.png\")"
   ]
  },
  {
   "cell_type": "markdown",
   "metadata": {},
   "source": [
    "## PM6 method"
   ]
  },
  {
   "cell_type": "markdown",
   "metadata": {},
   "source": [
    "Semi-empirical methods can be also used for calculating (very rough) IR spectra from Molecular Dynamics. In this example we perform a PM6 Molecular Dynamics\n",
    "simulation of water, and localize the molecular orbitals to obtain Wannier centers."
   ]
  },
  {
   "cell_type": "code",
   "execution_count": null,
   "metadata": {
    "collapsed": false
   },
   "outputs": [],
   "source": [
    "PM6 = 'cp2k.popt IR-PM6.in > IR-PM6.out'\n",
    "os.system(PM6)"
   ]
  },
  {
   "cell_type": "markdown",
   "metadata": {},
   "source": [
    "The trajectory methanol_wannier.xyz is then opened with TRAVIS. TRAVIS is an\n",
    "interactive program, it asks the user questions to answer. No input file needs to be prepared before. Please take the default values pressing ENTER, expect for the following questions:\n",
    "\n",
    "- Enter length of cell vector in pm: (Enter \"2000\")\n",
    "- Which functions to compute (comma separated)? (Enter \"ir\")\n",
    "\n",
    "To run TRAVIS, first call a terminal, then type in \"./travis -p IR-wannier.xyz\" and press ENTER."
   ]
  },
  {
   "cell_type": "code",
   "execution_count": null,
   "metadata": {
    "collapsed": false
   },
   "outputs": [],
   "source": [
    "#from subprocess import call\n",
    "#call([\"gnome-terminal\"])"
   ]
  },
  {
   "cell_type": "markdown",
   "metadata": {},
   "source": [
    "Let us plot the result"
   ]
  },
  {
   "cell_type": "code",
   "execution_count": null,
   "metadata": {
    "collapsed": false
   },
   "outputs": [],
   "source": [
    "data = np.genfromtxt(\"spectrum_[dip_global].d1.csv\", delimiter=\";\", skip_header=1)\n",
    "\n",
    "freq = [row[0] for row in data]\n",
    "intv = [row[1] for row in data]\n",
    "\n",
    "plt.plot(freq, intv)\n",
    "plt.xlabel('frequency (1/cm)')\n",
    "plt.xlim([4000,1000])\n",
    "plt.ylabel('correlation (a.u.)')\n",
    "plt.savefig(\"test.png\")"
   ]
  },
  {
   "cell_type": "markdown",
   "metadata": {},
   "source": [
    "## DFTB method applied to bulk"
   ]
  },
  {
   "cell_type": "code",
   "execution_count": null,
   "metadata": {
    "collapsed": false
   },
   "outputs": [],
   "source": [
    "import os\n",
    "DFTB = 'mpirun -np 8 cp2k.popt IR-DFTB-bulk.in > IR-DFTB-bulk.out' \n",
    "os.system(DFTB)"
   ]
  },
  {
   "cell_type": "code",
   "execution_count": null,
   "metadata": {
    "collapsed": false
   },
   "outputs": [],
   "source": [
    "dipole = './dipole.x < dipole_bulk.in'\n",
    "os.system(dipole)"
   ]
  },
  {
   "cell_type": "code",
   "execution_count": null,
   "metadata": {
    "collapsed": false
   },
   "outputs": [],
   "source": [
    "data = np.genfromtxt(\"dip_dip_correlation.freq\", delimiter=28, skip_header=1)\n",
    "\n",
    "freq = [row[0] for row in data]\n",
    "intv = [row[1] for row in data]\n",
    "\n",
    "plt.plot(freq, intv)\n",
    "plt.xlabel('frequency (1/cm)')\n",
    "plt.xlim([4000,1000])\n",
    "plt.ylabel('correlation (a.u.)')\n",
    "plt.savefig(\"IR-DFTB-bulk.png\")"
   ]
  },
  {
   "cell_type": "markdown",
   "metadata": {
    "collapsed": true
   },
   "source": [
    "I ran the simulations for 20 times longer, here are the results.\n",
    "\n",
    "First, one molecule DFTB."
   ]
  },
  {
   "cell_type": "code",
   "execution_count": null,
   "metadata": {
    "collapsed": false
   },
   "outputs": [],
   "source": [
    "Image(\"IR-DFTB-mol-long.png\")"
   ]
  },
  {
   "cell_type": "markdown",
   "metadata": {},
   "source": [
    "One molecule PM6."
   ]
  },
  {
   "cell_type": "code",
   "execution_count": null,
   "metadata": {
    "collapsed": false
   },
   "outputs": [],
   "source": [
    "Image(\"test-long.png\")"
   ]
  },
  {
   "cell_type": "markdown",
   "metadata": {},
   "source": [
    "DFTB with 32 water molecules."
   ]
  },
  {
   "cell_type": "code",
   "execution_count": null,
   "metadata": {
    "collapsed": false
   },
   "outputs": [],
   "source": [
    "Image(\"IR-DFTB-bulk-long.png\")"
   ]
  },
  {
   "cell_type": "code",
   "execution_count": null,
   "metadata": {
    "collapsed": true
   },
   "outputs": [],
   "source": []
  }
 ],
 "metadata": {
  "kernelspec": {
   "display_name": "Python 3",
   "language": "python",
   "name": "python3"
  },
  "language_info": {
   "codemirror_mode": {
    "name": "ipython",
    "version": 3
   },
   "file_extension": ".py",
   "mimetype": "text/x-python",
   "name": "python",
   "nbconvert_exporter": "python",
   "pygments_lexer": "ipython3",
   "version": "3.6.3"
  }
 },
 "nbformat": 4,
 "nbformat_minor": 1
}
