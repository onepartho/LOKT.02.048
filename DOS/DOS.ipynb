{
 "cells": [
  {
   "cell_type": "markdown",
   "metadata": {},
   "source": [
    "# DFT calculation of Graphene"
   ]
  },
  {
   "cell_type": "code",
   "execution_count": 1,
   "metadata": {
    "collapsed": true
   },
   "outputs": [],
   "source": [
    "from ase import Atoms\n",
    "from ase.io import write, read\n",
    "from ase.lattice.hexagonal import *\n",
    "from ase.visualize import view\n",
    "from ase.units import Bohr\n",
    "from gpaw import GPAW, FermiDirac, PoissonSolver, Mixer\n",
    "from ase.lattice.cubic import BodyCenteredCubic\n",
    "from ase.build import bulk\n",
    "from ase.spacegroup import crystal\n",
    "\n",
    "import numpy as np"
   ]
  },
  {
   "cell_type": "markdown",
   "metadata": {},
   "source": [
    "Define metal lattice:"
   ]
  },
  {
   "cell_type": "code",
   "execution_count": 2,
   "metadata": {
    "collapsed": true
   },
   "outputs": [],
   "source": [
    "Li = bulk(\"Li\", \"bcc\", a=3.51, cubic=True)\n",
    "#Li *= (2, 2, 2)\n",
    "Li.pbc = (True, True, True) #pbc = periodic boundary conditions\n",
    "view(Li)\n",
    "\n",
    "#Li = BodyCenteredCubic(symbol='Li', pbc=(1,1,1), latticeconstant=3.51)\n",
    "#Li = crystal('Li', [(0,0,0)], spacegroup=229, cellpar=[a, a, a, 90, 90, 90])\n",
    "#Li.pbc = (True, True, True)"
   ]
  },
  {
   "cell_type": "code",
   "execution_count": 3,
   "metadata": {
    "collapsed": true
   },
   "outputs": [],
   "source": [
    "Na = bulk(\"Na\", \"bcc\", a=4.29, cubic=True)\n",
    "Na.pbc = (True, True, True)\n",
    "view(Na * (2,2,2))"
   ]
  },
  {
   "cell_type": "code",
   "execution_count": 4,
   "metadata": {
    "collapsed": true
   },
   "outputs": [],
   "source": [
    "K = bulk(\"K\", \"bcc\", a=5.33, cubic=True)\n",
    "K.pbc = (True, True, True)\n",
    "view(K * (2,2,2)) "
   ]
  },
  {
   "cell_type": "markdown",
   "metadata": {},
   "source": [
    "Define calculator parameters and perform calculations to get the potential energy and electron density"
   ]
  },
  {
   "cell_type": "code",
   "execution_count": 5,
   "metadata": {
    "collapsed": false
   },
   "outputs": [
    {
     "name": "stderr",
     "output_type": "stream",
     "text": [
      "/usr/lib/python3/dist-packages/gpaw/fd_operators.py:184: FutureWarning: `rcond` parameter will change to the default of machine precision times ``max(M, N)`` where M and N are the input matrix dimensions.\n",
      "To use the future default and silence this warning we advise to pass `rcond=None`, to keep using the old, explicitly pass `rcond=-1`.\n",
      "  a_d, residual, rank, s = np.linalg.lstsq(A_md, [1, 1, 1, 0, 0, 0])\n"
     ]
    },
    {
     "name": "stdout",
     "output_type": "stream",
     "text": [
      "-3.9566677717524437  eV\n"
     ]
    }
   ],
   "source": [
    "calcLi = GPAW(xc='LDA', \n",
    "              mode=\"lcao\",\n",
    "              kpts=(16,16,16),\n",
    "              h=0.2,\n",
    "              #nbands=10,\n",
    "              basis='dzp',\n",
    "              txt='Li.txt')\n",
    "\n",
    "Li.set_calculator(calcLi)\n",
    "\n",
    "eLi = Li.get_potential_energy()\n",
    "\n",
    "calcLi.write('Li.gpw')\n",
    "\n",
    "densityLi = calcLi.get_all_electron_density(gridrefinement=4) * Bohr**3\n",
    "write('Li.cube', Li, data=densityLi)\n",
    "\n",
    "print(eLi, ' eV')"
   ]
  },
  {
   "cell_type": "code",
   "execution_count": 6,
   "metadata": {
    "collapsed": false
   },
   "outputs": [
    {
     "name": "stderr",
     "output_type": "stream",
     "text": [
      "/usr/lib/python3/dist-packages/gpaw/fd_operators.py:184: FutureWarning: `rcond` parameter will change to the default of machine precision times ``max(M, N)`` where M and N are the input matrix dimensions.\n",
      "To use the future default and silence this warning we advise to pass `rcond=None`, to keep using the old, explicitly pass `rcond=-1`.\n",
      "  a_d, residual, rank, s = np.linalg.lstsq(A_md, [1, 1, 1, 0, 0, 0])\n"
     ]
    },
    {
     "name": "stdout",
     "output_type": "stream",
     "text": [
      "-3.5072120339303297  eV\n"
     ]
    }
   ],
   "source": [
    "calcNa = GPAW(xc='LDA', \n",
    "            mode=\"lcao\",\n",
    "            kpts=(2,2,2),\n",
    "            h=0.2,\n",
    "            #nbands=20,\n",
    "            basis='dzp',\n",
    "            txt='Na.txt')\n",
    "\n",
    "Na.set_calculator(calcNa)\n",
    "\n",
    "eNa = Na.get_potential_energy()\n",
    "\n",
    "calcNa.write('Na.gpw')\n",
    "\n",
    "densityNa = calcNa.get_all_electron_density(gridrefinement=4) * Bohr**3\n",
    "write('Na.cube', Na, data=densityNa)\n",
    "\n",
    "print(eNa, ' eV')"
   ]
  },
  {
   "cell_type": "code",
   "execution_count": 7,
   "metadata": {
    "collapsed": false
   },
   "outputs": [
    {
     "name": "stderr",
     "output_type": "stream",
     "text": [
      "/usr/lib/python3/dist-packages/gpaw/fd_operators.py:184: FutureWarning: `rcond` parameter will change to the default of machine precision times ``max(M, N)`` where M and N are the input matrix dimensions.\n",
      "To use the future default and silence this warning we advise to pass `rcond=None`, to keep using the old, explicitly pass `rcond=-1`.\n",
      "  a_d, residual, rank, s = np.linalg.lstsq(A_md, [1, 1, 1, 0, 0, 0])\n"
     ]
    },
    {
     "name": "stdout",
     "output_type": "stream",
     "text": [
      "-2.5275511318007338  eV\n"
     ]
    }
   ],
   "source": [
    "calcK = GPAW(xc='LDA', \n",
    "            mode=\"lcao\",\n",
    "            kpts=(2,2,2),\n",
    "            h=0.2,\n",
    "            #nbands=20,\n",
    "            basis='dzp',\n",
    "            txt='K.txt')\n",
    "\n",
    "K.set_calculator(calcK)\n",
    "\n",
    "eK = K.get_potential_energy()\n",
    "\n",
    "calcK.write('K.gpw')\n",
    "\n",
    "densityK = calcK.get_all_electron_density(gridrefinement=4) * Bohr**3\n",
    "write('K.cube', K, data=densityK)\n",
    "\n",
    "print(eK, ' eV')"
   ]
  },
  {
   "cell_type": "markdown",
   "metadata": {},
   "source": [
    "Restart the calculation and plot DOS:"
   ]
  },
  {
   "cell_type": "code",
   "execution_count": 15,
   "metadata": {
    "collapsed": false
   },
   "outputs": [
    {
     "data": {
      "image/png": "[encoded data removed]",
      "text/plain": [
       "<matplotlib.figure.Figure at 0x7f94125750d0>"
      ]
     },
     "metadata": {},
     "output_type": "display_data"
    },
    {
     "data": {
      "text/plain": [
       "'\\nenergy2, dos2 = calc2.get_orbital_ldos(0, spin=0, angular=\\'spdf\\', width=0.25)\\nplt.plot(energy1 - ef1, dos1, label = \"graphene\")\\nplt.plot(energy2 - ef2, dos2, \"k\", label = \"graphite\")\\nplt.xlabel(r\\'$\\\\epsilon - \\\\epsilon_F \\\\ \\rm{(eV)}$\\')\\nplt.xlim([-10,10])\\nplt.ylabel(\\'Density of States (1/eV)\\')\\nplt.legend()\\nplt.show()'"
      ]
     },
     "execution_count": 15,
     "metadata": {},
     "output_type": "execute_result"
    }
   ],
   "source": [
    "import sys\n",
    "import matplotlib.pyplot as plt\n",
    "from gpaw import GPAW\n",
    "\n",
    "calcLi = GPAW('Li.gpw', txt=None)\n",
    "\n",
    "try:\n",
    "    efLi = calcLi.get_fermi_level()\n",
    "except ValueError:\n",
    "    efLi = 0\n",
    "energyLi, dosLi = calcLi.get_orbital_ldos(0, spin=0, angular='spdf', width=0.25)\n",
    "\n",
    "enLi = -1. * (energyLi - efLi)\n",
    "\n",
    "Spdos_Li = [0] * len(dosLi)\n",
    "Ppdos_Li = [0] * len(dosLi)\n",
    "Dpdos_Li = [0] * len(dosLi)\n",
    "temp = calcLi.get_orbital_ldos(0,spin=0, angular='s', width=0.2)[1]\n",
    "Spdos_Li = list(np.array(Spdos_Li) + np.array(temp))\n",
    "temp = calcLi.get_orbital_ldos(0,spin=0, angular='p', width=0.2)[1]\n",
    "Ppdos_Li = list(np.array(Ppdos_Li) + np.array(temp))\n",
    "temp = calcLi.get_orbital_ldos(0, spin=0, angular='d', width=0.2)[1]\n",
    "Dpdos_Li = list(np.array(Dpdos_Li) + np.array(temp))\n",
    "\n",
    "plt.plot(enLi, Spdos_Li, color='0.5' ,ls='--', linewidth = 2.0, label = 's')\n",
    "\n",
    "plt.plot(enLi, Ppdos_Li, 'r-',linewidth = 2.0, label = 'p')\n",
    "plt.plot(enLi, Dpdos_Li, 'g-.',linewidth = 2.0, label = 'd')\n",
    "plt.plot(enLi, dosLi, linewidth = 4.0, label='dos')\n",
    "\n",
    "plt.xlim(-15,5)\n",
    "plt.ylim(0,10)\n",
    "plt.legend()\n",
    "plt.show()\n",
    "\n",
    "\"\"\"\n",
    "energy2, dos2 = calc2.get_orbital_ldos(0, spin=0, angular='spdf', width=0.25)\n",
    "plt.plot(energy1 - ef1, dos1, label = \"graphene\")\n",
    "plt.plot(energy2 - ef2, dos2, \"k\", label = \"graphite\")\n",
    "plt.xlabel(r'$\\epsilon - \\epsilon_F \\ \\rm{(eV)}$')\n",
    "plt.xlim([-10,10])\n",
    "plt.ylabel('Density of States (1/eV)')\n",
    "plt.legend()\n",
    "plt.show()\"\"\""
   ]
  },
  {
   "cell_type": "code",
   "execution_count": 27,
   "metadata": {
    "collapsed": false
   },
   "outputs": [
    {
     "data": {
      "image/png": "[encoded data removed]",
      "text/plain": [
       "<matplotlib.figure.Figure at 0x7f941b2c5bd0>"
      ]
     },
     "metadata": {},
     "output_type": "display_data"
    },
    {
     "data": {
      "text/plain": [
       "'\\nenergy2, dos2 = calc2.get_orbital_ldos(0, spin=0, angular=\\'spdf\\', width=0.25)\\nplt.plot(energy1 - ef1, dos1, label = \"graphene\")\\nplt.plot(energy2 - ef2, dos2, \"k\", label = \"graphite\")\\nplt.xlabel(r\\'$\\\\epsilon - \\\\epsilon_F \\\\ \\rm{(eV)}$\\')\\nplt.xlim([-10,10])\\nplt.ylabel(\\'Density of States (1/eV)\\')\\nplt.legend()\\nplt.show()'"
      ]
     },
     "execution_count": 27,
     "metadata": {},
     "output_type": "execute_result"
    }
   ],
   "source": [
    "import sys\n",
    "import matplotlib.pyplot as plt\n",
    "from gpaw import GPAW\n",
    "\n",
    "calcLi = GPAW('Li.gpw', txt=None)\n",
    "\n",
    "try:\n",
    "    efLi = calcLi.get_fermi_level()\n",
    "except ValueError:\n",
    "    efLi = 0\n",
    "energyLi, dosLi = calcLi.get_orbital_ldos(0, spin=0, angular='spdf', width=0.1)\n",
    "\n",
    "enLi = -1. * (energyLi - efLi)\n",
    "\n",
    "Spdos_Li = [0] * len(dosLi)\n",
    "Ppdos_Li = [0] * len(dosLi)\n",
    "Dpdos_Li = [0] * len(dosLi)\n",
    "temp = calcLi.get_orbital_ldos(0,spin=0, angular='s', width=0.01)[1]\n",
    "Spdos_Li = list(np.array(Spdos_Li) + np.array(temp))\n",
    "temp = calcLi.get_orbital_ldos(0,spin=0, angular='p', width=0.01)[1]\n",
    "Ppdos_Li = list(np.array(Ppdos_Li) + np.array(temp))\n",
    "temp = calcLi.get_orbital_ldos(0, spin=0, angular='d', width=0.01)[1]\n",
    "Dpdos_Li = list(np.array(Dpdos_Li) + np.array(temp))\n",
    "\n",
    "plt.plot(enLi, Spdos_Li, color='0.5' ,ls='--', linewidth = 2.0, label = 's')\n",
    "\n",
    "plt.plot(enLi, Ppdos_Li, 'r-',linewidth = 2.0, label = 'p')\n",
    "plt.plot(enLi, Dpdos_Li, 'g-.',linewidth = 2.0, label = 'd')\n",
    "plt.plot(enLi, dosLi, linewidth = 4.0, label='dos')\n",
    "\n",
    "#plt.xlim(-4,4)\n",
    "#plt.ylim(0,1)\n",
    "plt.legend()\n",
    "plt.show()\n",
    "\n",
    "\"\"\"\n",
    "energy2, dos2 = calc2.get_orbital_ldos(0, spin=0, angular='spdf', width=0.25)\n",
    "plt.plot(energy1 - ef1, dos1, label = \"graphene\")\n",
    "plt.plot(energy2 - ef2, dos2, \"k\", label = \"graphite\")\n",
    "plt.xlabel(r'$\\epsilon - \\epsilon_F \\ \\rm{(eV)}$')\n",
    "plt.xlim([-10,10])\n",
    "plt.ylabel('Density of States (1/eV)')\n",
    "plt.legend()\n",
    "plt.show()\"\"\""
   ]
  },
  {
   "cell_type": "markdown",
   "metadata": {},
   "source": [
    "Restart the calculation and plot electrostatic potential"
   ]
  },
  {
   "cell_type": "code",
   "execution_count": null,
   "metadata": {
    "collapsed": true
   },
   "outputs": [],
   "source": [
    "from ase.units import Hartree\n",
    "from gpaw import GPAW\n",
    "import numpy as np\n",
    "import pylab as plt\n",
    "\n",
    "calc = GPAW('G2.gpw', txt=None)\n",
    "calc.restore_state()\n",
    "v = (calc.hamiltonian.vHt_g * Hartree).mean(0).mean(0)\n",
    "z = np.linspace(0, calc.atoms.cell[2, 2], len(v), endpoint=False)\n",
    "plt.plot(z, v, label='xy-averaged potential')\n",
    "plt.show()"
   ]
  },
  {
   "cell_type": "code",
   "execution_count": null,
   "metadata": {
    "collapsed": true
   },
   "outputs": [],
   "source": []
  }
 ],
 "metadata": {
  "anaconda-cloud": {},
  "kernelspec": {
   "display_name": "Python 3",
   "language": "python",
   "name": "python3"
  },
  "language_info": {
   "codemirror_mode": {
    "name": "ipython",
    "version": 3
   },
   "file_extension": ".py",
   "mimetype": "text/x-python",
   "name": "python",
   "nbconvert_exporter": "python",
   "pygments_lexer": "ipython3",
   "version": "3.6.3"
  }
 },
 "nbformat": 4,
 "nbformat_minor": 1
}
