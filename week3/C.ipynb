{
 "cells": [
  {
   "cell_type": "markdown",
   "metadata": {},
   "source": [
    "# DFT calculation of Graphene"
   ]
  },
  {
   "cell_type": "code",
   "execution_count": 1,
   "metadata": {
    "collapsed": true
   },
   "outputs": [],
   "source": [
    "#import all the needed libraries\n",
    "from ase import Atoms\n",
    "from ase.io import write, read\n",
    "from ase.lattice.hexagonal import *\n",
    "from ase.visualize import view\n",
    "from ase.units import Bohr\n",
    "from ase.lattice.cubic import BodyCenteredCubic\n",
    "from ase.build import bulk\n",
    "from gpaw import GPAW, FermiDirac, PoissonSolver, Mixer\n",
    "import numpy as np\n",
    "import matplotlib.pyplot as plt\n",
    "import sys\n",
    "from IPython.display import Image, display\n",
    "import warnings; warnings.simplefilter('ignore')"
   ]
  },
  {
   "cell_type": "markdown",
   "metadata": {},
   "source": [
    "### Density of states\n",
    "\n",
    "Density of states is the number of levels (states) per interval of energy.\n",
    "\n",
    "A high DOS at a specific energy level means that there are many states. A DOS of zero means that no energy levels. \n",
    "\n",
    "Generally, the density of states of matter is continuous. In isolated systems however, like individual atoms or molecules, the density distribution is discrete like a spectral density.\n",
    "\n",
    "Lets check DOS of a single lithium atom."
   ]
  },
  {
   "cell_type": "markdown",
   "metadata": {},
   "source": [
    "### Single silicon atom"
   ]
  },
  {
   "cell_type": "code",
   "execution_count": 2,
   "metadata": {
    "collapsed": false
   },
   "outputs": [
    {
     "data": {
      "image/png": "[encoded data removed]",
      "text/plain": [
       "<IPython.core.display.Image object>"
      ]
     },
     "metadata": {},
     "output_type": "display_data"
    },
    {
     "data": {
      "image/png": "[encoded data removed]",
      "text/plain": [
       "<matplotlib.figure.Figure at 0x7f0011b61b38>"
      ]
     },
     "metadata": {},
     "output_type": "display_data"
    }
   ],
   "source": [
    "#Lets define a single silicon atom\n",
    "Si0 = Atoms('C', positions=[(0, 0, 0)], cell=[10.0,10.1,10.2], pbc=[0,0,0])\n",
    "Si0.center()\n",
    "write('C0.png', Si0)\n",
    "display(Image(filename='C0.png'))\n",
    "\n",
    "#define a calculator\n",
    "calcSi0 = GPAW(xc='LDA', \n",
    "               mode=\"lcao\",\n",
    "               basis='dzp',\n",
    "               txt='C0.txt',\n",
    "               hund=True)\n",
    "\n",
    "Si0.set_calculator(calcSi0)\n",
    "\n",
    "#make a single point calculation of the atom\n",
    "eSi0 = Si0.get_potential_energy()\n",
    "\n",
    "#get the Fermi energy\n",
    "\"\"\"The Fermi energy is a concept in quantum mechanics usually referring to the energy difference \n",
    "between the highest and lowest occupied single-particle states in a quantum system of non-interacting \n",
    "fermions at absolute zero temperature.\n",
    "The Fermi level is a total energy level including kinetic energy and potential energy.\"\"\"\n",
    "try:\n",
    "    efSi0 = calcSi0.get_fermi_level()\n",
    "except ValueError:\n",
    "    efSi0 = 0\n",
    "energySi0, dosSi0 = calcSi0.get_orbital_ldos(0, spin=0, angular='sp', width=0.1)\n",
    "\n",
    "enSi0 = energySi0\n",
    "\n",
    "#Plotting DOS by orbitals (s and p)\n",
    "Spdos_Si0 = [0] * len(dosSi0)\n",
    "Ppdos_Si0 = [0] * len(dosSi0)\n",
    "temp = calcSi0.get_orbital_ldos(0, spin=0, angular='s', width=0.1)[1]\n",
    "Spdos_Si0 = list(np.array(Spdos_Si0) + np.array(temp))\n",
    "temp = calcSi0.get_orbital_ldos(0, spin=0, angular='p', width=0.1)[1]\n",
    "Ppdos_Si0 = list(np.array(Ppdos_Si0) + np.array(temp))\n",
    "\n",
    "#plt.plot(dosLi0, enLi0, 'k-', linewidth = 4.0, label='dos')\n",
    "plt.plot(Spdos_Si0, enSi0, 'r-', linewidth = 2.0, label = 's')\n",
    "plt.plot(Ppdos_Si0, enSi0, 'b-',linewidth = 2.0, label = 'p')\n",
    "plt.axhline(y=efSi0, color='k', linestyle='--')\n",
    "\n",
    "#plt.ylim(-7,7)\n",
    "plt.xlabel('PDOS')\n",
    "plt.ylabel('energy / eV')\n",
    "plt.legend(loc='best')\n",
    "plt.show()"
   ]
  },
  {
   "cell_type": "markdown",
   "metadata": {},
   "source": [
    "### Two lithium atoms (diatomic)"
   ]
  },
  {
   "cell_type": "code",
   "execution_count": 3,
   "metadata": {
    "collapsed": false
   },
   "outputs": [
    {
     "data": {
      "image/png": "[encoded data removed]",
      "text/plain": [
       "<IPython.core.display.Image object>"
      ]
     },
     "metadata": {},
     "output_type": "display_data"
    },
    {
     "data": {
      "image/png": "[encoded data removed]",
      "text/plain": [
       "<matplotlib.figure.Figure at 0x7f00101c1f28>"
      ]
     },
     "metadata": {},
     "output_type": "display_data"
    }
   ],
   "source": [
    "Li_2 = Atoms('C2', positions=[(0, 0, 0), (2.46, 0, 0)], cell=[10.0,10.0,10.0], pbc=[0,0,0])\n",
    "Li_2.center()\n",
    "write('C_2.png', Li_2)\n",
    "display(Image(filename='C_2.png'))\n",
    "\n",
    "calcLi_2 = GPAW(xc='LDA', \n",
    "                mode=\"lcao\",\n",
    "                basis='dzp',\n",
    "                occupations=FermiDirac(0.1, fixmagmom=True),\n",
    "                spinpol=True,\n",
    "                txt='C_2.txt')\n",
    "\n",
    "Li_2.set_calculator(calcLi_2)\n",
    "eLi_2 = Li_2.get_potential_energy()\n",
    "\n",
    "#get the Fermi energy\n",
    "try:\n",
    "    efLi_2 = calcLi_2.get_fermi_level()\n",
    "except ValueError:\n",
    "    efLi_2 = 0\n",
    "energyLi_2, dosLi_2 = calcLi_2.get_orbital_ldos(0, spin=0, angular='sp', width=0.1)\n",
    "\n",
    "enLi_2 = energyLi_2\n",
    "\n",
    "Spdos_Li_2 = [0] * len(dosLi_2)\n",
    "Ppdos_Li_2 = [0] * len(dosLi_2)\n",
    "temp = calcLi_2.get_orbital_ldos(0, spin=0, angular='s', width=0.1)[1]\n",
    "Spdos_Li_2 = list(np.array(Spdos_Li_2) + np.array(temp))\n",
    "temp = calcLi_2.get_orbital_ldos(0, spin=0, angular='p', width=0.1)[1]\n",
    "Ppdos_Li_2 = list(np.array(Ppdos_Li_2) + np.array(temp))\n",
    "\n",
    "#plt.plot(dosLi_2, enLi_2, 'k-', linewidth = 4.0, label='dos')\n",
    "plt.plot(Spdos_Li_2, enLi_2, 'r-', linewidth = 2.0, label = 's')\n",
    "plt.plot(Ppdos_Li_2, enLi_2, 'b-',linewidth = 2.0, label = 'p')\n",
    "#plt.axhline(y=efLi_2, color='k', linestyle='--')\n",
    "\n",
    "#plt.ylim(-7,7)\n",
    "plt.xlabel('PDOS')\n",
    "plt.ylabel('energy / eV')\n",
    "plt.legend(loc='best')\n",
    "plt.show()"
   ]
  },
  {
   "cell_type": "markdown",
   "metadata": {},
   "source": [
    "### 1D lithuim wire"
   ]
  },
  {
   "cell_type": "code",
   "execution_count": null,
   "metadata": {
    "collapsed": false
   },
   "outputs": [
    {
     "data": {
      "image/png": "[encoded data removed]",
      "text/plain": [
       "<IPython.core.display.Image object>"
      ]
     },
     "metadata": {},
     "output_type": "display_data"
    },
    {
     "data": {
      "image/png": "[encoded data removed]",
      "text/plain": [
       "<matplotlib.figure.Figure at 0x7f00382545f8>"
      ]
     },
     "metadata": {},
     "output_type": "display_data"
    }
   ],
   "source": [
    "\n",
    "Li1 = Atoms('C', positions=[(0, 0, 0)], cell=[1.42,10,10], pbc=[1,0,0])\n",
    "Li1.center()\n",
    "write('C1.png', Li1*(5,1,1))\n",
    "display(Image(filename='C1.png'))\n",
    "\n",
    "calcLi1 = GPAW(xc='LDA', \n",
    "               mode=\"lcao\",\n",
    "               kpts=(100,1,1),\n",
    "               basis='dzp',\n",
    "               txt='C1.txt')\n",
    "\n",
    "Li1.set_calculator(calcLi1)\n",
    "eLi1 = Li1.get_potential_energy()\n",
    "\n",
    "#get the Fermi energy\n",
    "try:\n",
    "    efLi1 = calcLi1.get_fermi_level()\n",
    "except ValueError:\n",
    "    efLi1 = 0\n",
    "energyLi1, dosLi1 = calcLi1.get_orbital_ldos(0, spin=0, angular='sp', width=0.1)\n",
    "\n",
    "enLi1 = energyLi1\n",
    "\n",
    "Spdos_Li1 = [0] * len(dosLi1)\n",
    "Ppdos_Li1 = [0] * len(dosLi1)\n",
    "temp = calcLi1.get_orbital_ldos(0, spin=0, angular='s', width=0.1)[1]\n",
    "Spdos_Li1 = list(np.array(Spdos_Li1) + np.array(temp))\n",
    "temp = calcLi1.get_orbital_ldos(0, spin=0, angular='p', width=0.1)[1]\n",
    "Ppdos_Li1 = list(np.array(Ppdos_Li1) + np.array(temp))\n",
    "\n",
    "#plt.plot(dosLi1, enLi1, 'k-', linewidth = 1.0, label='dos')\n",
    "plt.plot(Spdos_Li1, enLi1, 'r-', linewidth = 2.0, label = 's')\n",
    "plt.plot(Ppdos_Li1, enLi1, 'b-',linewidth = 2.0, label = 'p')\n",
    "plt.axhline(y=efLi1, color='k', linestyle='--')\n",
    "\n",
    "#plt.ylim(-10,10)\n",
    "plt.xlabel('PDOS')\n",
    "plt.ylabel('energy / eV')\n",
    "plt.legend(loc='best')\n",
    "plt.show()"
   ]
  },
  {
   "cell_type": "markdown",
   "metadata": {},
   "source": [
    "### 2D lithium slab"
   ]
  },
  {
   "cell_type": "code",
   "execution_count": null,
   "metadata": {
    "collapsed": false
   },
   "outputs": [
    {
     "data": {
      "image/png": "[encoded data removed]",
      "text/plain": [
       "<IPython.core.display.Image object>"
      ]
     },
     "metadata": {},
     "output_type": "display_data"
    }
   ],
   "source": [
    "Li2 = Graphene(symbol='C', latticeconstant={'a':2.461, 'c':6.708},size=(3,3,1))\n",
    "Li2.center()\n",
    "write('C2.png', Li2)#*(3,3,1))\n",
    "display(Image(filename='C2.png'))\n",
    "\n",
    "calcLi2 = GPAW(xc='LDA', \n",
    "               mode=\"lcao\",\n",
    "               kpts=(40,40,1),\n",
    "               basis='dzp',\n",
    "               txt='C2.txt')\n",
    "\n",
    "Li2.set_calculator(calcLi2)\n",
    "eLi2 = Li2.get_potential_energy()\n",
    "\n",
    "#get the Fermi energy\n",
    "try:\n",
    "    efLi2 = calcLi2.get_fermi_level()\n",
    "except ValueError:\n",
    "    efLi2 = 0\n",
    "energyLi2, dosLi2 = calcLi2.get_orbital_ldos(0, spin=0, angular='sp', width=0.1)\n",
    "\n",
    "enLi2 = energyLi2\n",
    "\n",
    "Spdos_Li2 = [0] * len(dosLi2)\n",
    "Ppdos_Li2 = [0] * len(dosLi2)\n",
    "temp = calcLi2.get_orbital_ldos(0, spin=0, angular='s', width=0.1)[1]\n",
    "Spdos_Li2 = list(np.array(Spdos_Li2) + np.array(temp))\n",
    "temp = calcLi2.get_orbital_ldos(0, spin=0, angular='p', width=0.1)[1]\n",
    "Ppdos_Li2 = list(np.array(Ppdos_Li2) + np.array(temp))\n",
    "\n",
    "#plt.plot(dosLi1, enLi1, 'k-', linewidth = 1.0, label='dos')\n",
    "plt.plot(Spdos_Li1, enLi1, 'r-', linewidth = 2.0, label = 's')\n",
    "plt.plot(Ppdos_Li1, enLi1, 'b-',linewidth = 2.0, label = 'p')\n",
    "plt.axhline(y=efLi1, color='k', linestyle='--')\n",
    "\n",
    "#plt.ylim(-10,10)\n",
    "plt.xlabel('PDOS')\n",
    "plt.ylabel('energy / eV')\n",
    "plt.legend(loc='best')\n",
    "plt.show()"
   ]
  },
  {
   "cell_type": "markdown",
   "metadata": {},
   "source": [
    "### 3D Lithium crystal"
   ]
  },
  {
   "cell_type": "code",
   "execution_count": null,
   "metadata": {
    "collapsed": false,
    "scrolled": false
   },
   "outputs": [],
   "source": [
    "Li3 = Graphene(symbol='C', latticeconstant={'a':2.461, 'c':6.708},size=(2,2,2))\n",
    "Li3.pbc = (True, True, True) #pbc = periodic boundary conditions\n",
    "#view(Li)\n",
    "write('Li3.png', Li3*(2,2,2))\n",
    "display(Image(filename='Li3.png'))\n",
    "\n",
    "calcLi3 = GPAW(xc='LDA', \n",
    "               mode=\"lcao\",\n",
    "               kpts=(16,16,16),\n",
    "               basis='dzp',\n",
    "               txt='Li3.txt')\n",
    "\n",
    "Li3.set_calculator(calcLi3)\n",
    "eLi3 = Li3.get_potential_energy()\n",
    "\n",
    "#get the Fermi energy\n",
    "try:\n",
    "    efLi3 = calcLi3.get_fermi_level()\n",
    "except ValueError:\n",
    "    efLi3 = 0\n",
    "energyLi3, dosLi3 = calcLi3.get_orbital_ldos(0, spin=0, angular='sp', width=0.1)\n",
    "\n",
    "enLi3 = energyLi3\n",
    "\n",
    "Spdos_Li3 = [0] * len(dosLi3)\n",
    "Ppdos_Li3 = [0] * len(dosLi3)\n",
    "temp = calcLi3.get_orbital_ldos(0, spin=0, angular='s', width=0.1)[1]\n",
    "Spdos_Li3 = list(np.array(Spdos_Li3) + np.array(temp))\n",
    "temp = calcLi3.get_orbital_ldos(0, spin=0, angular='p', width=0.1)[1]\n",
    "Ppdos_Li3 = list(np.array(Ppdos_Li3) + np.array(temp))\n",
    "\n",
    "#plt.plot(dosLi2, enLi2, 'k-', linewidth = 1.0, label='dos')\n",
    "plt.plot(Spdos_Li3, enLi3, 'r-', linewidth = 2.0, label = 's')\n",
    "plt.plot(Ppdos_Li3, enLi3, 'b-',linewidth = 2.0, label = 'p')\n",
    "plt.axhline(y=efLi3, color='k', linestyle='--')\n",
    "\n",
    "plt.ylim(-7,7)\n",
    "plt.xlabel('PDOS')\n",
    "plt.ylabel('energy / eV')\n",
    "plt.legend(loc='best')\n",
    "plt.show()"
   ]
  }
 ],
 "metadata": {
  "anaconda-cloud": {},
  "kernelspec": {
   "display_name": "Python 3",
   "language": "python",
   "name": "python3"
  },
  "language_info": {
   "codemirror_mode": {
    "name": "ipython",
    "version": 3
   },
   "file_extension": ".py",
   "mimetype": "text/x-python",
   "name": "python",
   "nbconvert_exporter": "python",
   "pygments_lexer": "ipython3",
   "version": "3.6.3"
  }
 },
 "nbformat": 4,
 "nbformat_minor": 1
}
