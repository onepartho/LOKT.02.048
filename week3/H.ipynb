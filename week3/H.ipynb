{
 "cells": [
  {
   "cell_type": "markdown",
   "metadata": {},
   "source": [
    "# Bang structure of hydrogen: from single atom to crystal"
   ]
  },
  {
   "cell_type": "code",
   "execution_count": null,
   "metadata": {
    "collapsed": true
   },
   "outputs": [],
   "source": [
    "#import all the needed libraries\n",
    "from ase import Atoms\n",
    "from ase.io import write, read\n",
    "from ase.lattice.hexagonal import *\n",
    "from ase.visualize import view\n",
    "from ase.units import Bohr\n",
    "from ase.lattice.cubic import BodyCenteredCubic\n",
    "from ase.build import bulk\n",
    "from gpaw import GPAW, FermiDirac, PoissonSolver, Mixer\n",
    "import numpy as np\n",
    "import matplotlib.pyplot as plt\n",
    "import sys\n",
    "from IPython.display import Image, display\n",
    "import warnings; warnings.simplefilter('ignore')"
   ]
  },
  {
   "cell_type": "markdown",
   "metadata": {},
   "source": [
    "### Density of states\n",
    "\n",
    "Density of states is the number of levels (states) per interval of energy.\n",
    "\n",
    "A high DOS at a specific energy level means that there are many states. A DOS of zero means that no energy levels. \n",
    "\n",
    "Generally, the density of states of matter is continuous. In isolated systems however, like individual atoms or molecules, the density distribution is discrete like a spectral density."
   ]
  },
  {
   "cell_type": "markdown",
   "metadata": {},
   "source": [
    "### Single hydrogen atom"
   ]
  },
  {
   "cell_type": "code",
   "execution_count": null,
   "metadata": {
    "collapsed": false
   },
   "outputs": [],
   "source": [
    "#Define a single hydrogen atom\n",
    "\n",
    "sys = Atoms('H', positions=[(0, 0, 0)], cell=[5.0,5.1,5.2], pbc=[False,False,False])\n",
    "sys.center()\n",
    "write('H0D.png', sys)\n",
    "display(Image(filename='H0D.png'))\n",
    "\n",
    "#Define a calculator\n",
    "calc = GPAW(xc='LDA', \n",
    "            mode='lcao',\n",
    "            h=0.14,\n",
    "            basis='dzp',\n",
    "            txt=None)\n",
    "sys.set_calculator(calc)\n",
    "sys.get_potential_energy()\n",
    "\n",
    "#Get the Fermi energy\n",
    "\"\"\"The Fermi energy is a concept in quantum mechanics usually referring to the energy difference \n",
    "between the highest and lowest occupied single-particle states in a quantum system of non-interacting \n",
    "fermions at absolute zero temperature.\n",
    "The Fermi level is a total energy level including kinetic energy and potential energy.\"\"\"\n",
    "EF = calc.get_fermi_level()\n",
    "\n",
    "#Get the DOS\n",
    "en, dos = calc.get_orbital_ldos(0, spin=0, angular='sp', width=0.2, npts=2001)\n",
    "Sdos = list(np.array([0]*len(dos)) + calc.get_orbital_ldos(0, spin=0, angular='s', width=0.2, npts=2001)[1])\n",
    "Pdos = list(np.array([0]*len(dos)) + calc.get_orbital_ldos(0, spin=0, angular='p', width=0.2, npts=2001)[1])\n",
    "\n",
    "#Plot the LDOS by orbitals (s and p)\n",
    "plt.plot(Sdos/np.sum(Sdos)*1, en, 'r-', linewidth = 2.0, label = 's')\n",
    "plt.fill_between(Sdos/np.sum(Sdos)*1, 0, en, linewidth=0, facecolor='r', alpha=0.2)\n",
    "plt.plot(Pdos/np.sum(Pdos)*3, en, 'b-', linewidth = 2.0, label = 'p')\n",
    "plt.fill_between(Pdos/np.sum(Pdos)*3, 0, en, linewidth=0, facecolor='b', alpha=0.2)\n",
    "plt.axhline(y=EF, color='k', linestyle='--')\n",
    "\n",
    "plt.ylim(-12,12)\n",
    "plt.xlabel('LDOS')\n",
    "plt.ylabel('energy / eV')\n",
    "plt.legend(loc='best')\n",
    "plt.show()"
   ]
  },
  {
   "cell_type": "markdown",
   "metadata": {},
   "source": [
    "### Dihydrogen"
   ]
  },
  {
   "cell_type": "code",
   "execution_count": null,
   "metadata": {
    "collapsed": false
   },
   "outputs": [],
   "source": [
    "#Define a hydrogen diatomic\n",
    "sys = Atoms('H2', positions=[(0, 0, 0), (0.74, 0, 0)], cell=[5.0,5.1,5.2], pbc=[False,False,False])\n",
    "sys.center()\n",
    "write('H_2.png', sys)\n",
    "display(Image(filename='H_2.png'))\n",
    "\n",
    "#Define a calculator\n",
    "calc = GPAW(xc='LDA', \n",
    "            mode='lcao',\n",
    "            h=0.14,\n",
    "            basis='dzp',\n",
    "            txt=None)\n",
    "sys.set_calculator(calc)\n",
    "sys.get_potential_energy()\n",
    "\n",
    "#Get the Fermi energy\n",
    "EF = calc.get_fermi_level()\n",
    "\n",
    "#Get the DOS\n",
    "en, dos = calc.get_orbital_ldos(0, spin=0, angular='sp', width=0.2, npts=2001)\n",
    "Sdos = list(np.array([0]*len(dos)) + calc.get_orbital_ldos(0, spin=0, angular='s', width=0.2, npts=2001)[1])\n",
    "Pdos = list(np.array([0]*len(dos)) + calc.get_orbital_ldos(0, spin=0, angular='p', width=0.2, npts=2001)[1])\n",
    "\n",
    "#Plot the LDOS by orbitals (s and p)\n",
    "plt.plot(Sdos/np.sum(Sdos)*1, en, 'r-', linewidth = 2.0, label = 's')\n",
    "plt.fill_between(Sdos/np.sum(Sdos)*1, 0, en, linewidth=0, facecolor='r', alpha=0.2)\n",
    "plt.plot(Pdos/np.sum(Pdos)*3, en, 'b-', linewidth = 2.0, label = 'p')\n",
    "plt.fill_between(Pdos/np.sum(Pdos)*3, 0, en, linewidth=0, facecolor='b', alpha=0.2)\n",
    "plt.axhline(y=EF, color='k', linestyle='--')\n",
    "\n",
    "plt.ylim(-12,12)\n",
    "plt.xlabel('LDOS')\n",
    "plt.ylabel('energy / eV')\n",
    "plt.legend(loc='best')\n",
    "plt.show()"
   ]
  },
  {
   "cell_type": "markdown",
   "metadata": {},
   "source": [
    "### 1D hydrogen wire"
   ]
  },
  {
   "cell_type": "code",
   "execution_count": null,
   "metadata": {
    "collapsed": false
   },
   "outputs": [],
   "source": [
    "#Define a hydrogen wire\n",
    "sys = Atoms('H', positions=[(0, 0, 0)], cell=[0.74,5,5], pbc=[True,False,False])\n",
    "sys.center()\n",
    "sys=sys*(4,1,1)\n",
    "write('H1D.png', sys*(1,1,1))\n",
    "display(Image(filename='H1D.png'))\n",
    "\n",
    "#Define a calculator\n",
    "calc = GPAW(xc='LDA', \n",
    "            mode='lcao',\n",
    "            h=0.14,\n",
    "            kpts=(64,1,1),\n",
    "            basis='dzp',\n",
    "            txt=None)\n",
    "sys.set_calculator(calc)\n",
    "sys.get_potential_energy()\n",
    "\n",
    "#Get the Fermi energy\n",
    "EF = calc.get_fermi_level()\n",
    "\n",
    "#Get the DOS\n",
    "en, dos = calc.get_orbital_ldos(0, spin=0, angular='sp', width=0.2, npts=2001)\n",
    "Sdos = list(np.array([0]*len(dos)) + calc.get_orbital_ldos(0, spin=0, angular='s', width=0.2, npts=2001)[1])\n",
    "Pdos = list(np.array([0]*len(dos)) + calc.get_orbital_ldos(0, spin=0, angular='p', width=0.2, npts=2001)[1])\n",
    "\n",
    "#Plot the LDOS by orbitals (s and p)\n",
    "plt.plot(Sdos/np.sum(Sdos)*1, en, 'r-', linewidth = 2.0, label = 's')\n",
    "plt.fill_between(Sdos/np.sum(Sdos)*1, 0, en, linewidth=0, facecolor='r', alpha=0.2)\n",
    "plt.plot(Pdos/np.sum(Pdos)*3, en, 'b-', linewidth = 2.0, label = 'p')\n",
    "plt.fill_between(Pdos/np.sum(Pdos)*3, 0, en, linewidth=0, facecolor='b', alpha=0.2)\n",
    "plt.axhline(y=EF, color='k', linestyle='--')\n",
    "\n",
    "#plt.ylim(-12,12)\n",
    "plt.xlabel('LDOS')\n",
    "plt.ylabel('energy / eV')\n",
    "plt.legend(loc='best')\n",
    "plt.show()"
   ]
  },
  {
   "cell_type": "markdown",
   "metadata": {},
   "source": [
    "### 2D hydrogen slab"
   ]
  },
  {
   "cell_type": "code",
   "execution_count": null,
   "metadata": {
    "collapsed": false
   },
   "outputs": [],
   "source": [
    "#Define a hydrogen slab\n",
    "sys = Atoms('H', positions=[(0, 0, 0)], cell=[0.74,0.74,5], pbc=[True,True,False])\n",
    "sys.center()\n",
    "sys=sys*(2,2,1)\n",
    "write('H2D.png', sys*(2,2,1))\n",
    "display(Image(filename='H2D.png'))\n",
    "\n",
    "#Define a calculator\n",
    "calc = GPAW(xc='LDA', \n",
    "            mode='lcao',\n",
    "            h=0.14,\n",
    "            kpts=(16,16,1),\n",
    "            basis='dzp',\n",
    "            txt='H2.txt')\n",
    "sys.set_calculator(calc)\n",
    "sys.get_potential_energy()\n",
    "\n",
    "#Get the Fermi energy\n",
    "EF = calc.get_fermi_level()\n",
    "\n",
    "#Get the DOS\n",
    "en, dos = calc.get_orbital_ldos(0, spin=0, angular='sp', width=0.2, npts=2001)\n",
    "Sdos = list(np.array([0]*len(dos)) + calc.get_orbital_ldos(0, spin=0, angular='s', width=0.2, npts=2001)[1])\n",
    "Pdos = list(np.array([0]*len(dos)) + calc.get_orbital_ldos(0, spin=0, angular='p', width=0.2, npts=2001)[1])\n",
    "\n",
    "#Plot the LDOS by orbitals (s and p)\n",
    "plt.plot(Sdos/np.sum(Sdos)*1, en, 'r-', linewidth = 2.0, label = 's')\n",
    "plt.fill_between(Sdos/np.sum(Sdos)*1, 0, en, linewidth=0, facecolor='r', alpha=0.2)\n",
    "plt.plot(Pdos/np.sum(Pdos)*3, en, 'b-', linewidth = 2.0, label = 'p')\n",
    "plt.fill_between(Pdos/np.sum(Pdos)*3, 0, en, linewidth=0, facecolor='b', alpha=0.2)\n",
    "plt.axhline(y=EF, color='k', linestyle='--')\n",
    "\n",
    "#plt.ylim(-7,7)\n",
    "plt.xlabel('LDOS')\n",
    "plt.ylabel('energy / eV')\n",
    "plt.legend(loc='best')\n",
    "plt.show()"
   ]
  },
  {
   "cell_type": "markdown",
   "metadata": {},
   "source": [
    "### 3D hydrogen BCC crystal"
   ]
  },
  {
   "cell_type": "code",
   "execution_count": null,
   "metadata": {
    "collapsed": false,
    "scrolled": false
   },
   "outputs": [],
   "source": [
    "#Define a hydrogen BCC crystal\n",
    "sys = bulk(\"H\", \"bcc\", a=0.85, cubic=True)\n",
    "sys.pbc = (True,True,True) #periodic boundary conditions\n",
    "sys=sys*(1,1,1)\n",
    "write('Li3D.png', sys*(5,5,5))\n",
    "display(Image(filename='Li3D.png'))\n",
    "\n",
    "#Define a calculator\n",
    "calc = GPAW(xc='LDA', \n",
    "            mode='lcao',\n",
    "            h=0.14,\n",
    "            kpts=(8,8,8),\n",
    "            basis='dzp',\n",
    "            txt='H3.txt')\n",
    "sys.set_calculator(calc)\n",
    "sys.get_potential_energy()\n",
    "\n",
    "#Get the Fermi energy\n",
    "EF = calc.get_fermi_level()\n",
    "\n",
    "#Get the DOS\n",
    "en, dos = calc.get_orbital_ldos(0, spin=0, angular='sp', width=0.2, npts=2001)\n",
    "Sdos = list(np.array([0]*len(dos)) + calc.get_orbital_ldos(0, spin=0, angular='s', width=0.1, npts=2001)[1])\n",
    "Pdos = list(np.array([0]*len(dos)) + calc.get_orbital_ldos(0, spin=0, angular='p', width=0.1, npts=2001)[1])\n",
    "\n",
    "#Plot the LDOS by orbitals (s and p)\n",
    "plt.plot(Sdos/np.sum(Sdos)*1, en-EF, 'r-', linewidth = 2.0, label = 's')\n",
    "plt.fill_between(Sdos/np.sum(Sdos)*1, 0, en-EF, linewidth=0, facecolor='r', alpha=0.2)\n",
    "plt.plot(Pdos/np.sum(Pdos)*3, en-EF, 'b-', linewidth = 2.0, label = 'p')\n",
    "plt.fill_between(Pdos/np.sum(Pdos)*3, 0, en-EF, linewidth=0, facecolor='b', alpha=0.2)\n",
    "plt.axhline(y=0, color='k', linestyle='--')\n",
    "\n",
    "plt.ylim(-7,7)\n",
    "plt.xlabel('LDOS')\n",
    "plt.ylabel('energy / eV')\n",
    "plt.legend(loc='best')\n",
    "plt.show()"
   ]
  },
  {
   "cell_type": "code",
   "execution_count": null,
   "metadata": {
    "collapsed": true
   },
   "outputs": [],
   "source": []
  }
 ],
 "metadata": {
  "anaconda-cloud": {},
  "kernelspec": {
   "display_name": "Python [default]",
   "language": "python",
   "name": "python2"
  },
  "language_info": {
   "codemirror_mode": {
    "name": "ipython",
    "version": 2
   },
   "file_extension": ".py",
   "mimetype": "text/x-python",
   "name": "python",
   "nbconvert_exporter": "python",
   "pygments_lexer": "ipython2",
   "version": "2.7.12"
  }
 },
 "nbformat": 4,
 "nbformat_minor": 1
}
