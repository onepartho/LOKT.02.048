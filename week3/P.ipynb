{
 "cells": [
  {
   "cell_type": "markdown",
   "metadata": {
    "nbpresent": {
     "id": "a5d70a1b-7be4-45ce-80eb-9c8a2e273177"
    }
   },
   "source": [
    "# Bang structure of phosphorus: from single atom to crystal"
   ]
  },
  {
   "cell_type": "code",
   "execution_count": 1,
   "metadata": {
    "nbpresent": {
     "id": "7d27b7cb-4f46-4cb9-a989-f28bec84db80"
    }
   },
   "outputs": [],
   "source": [
    "#import all the needed libraries\n",
    "from ase import Atoms\n",
    "from ase.io import write, read\n",
    "from ase.lattice.hexagonal import *\n",
    "from ase.visualize import view\n",
    "from ase.units import Bohr\n",
    "from ase.lattice.cubic import BodyCenteredCubic\n",
    "from ase.build import bulk\n",
    "from gpaw import GPAW, FermiDirac, PoissonSolver, Mixer\n",
    "import numpy as np\n",
    "import matplotlib.pyplot as plt\n",
    "import sys\n",
    "from IPython.display import Image, display\n",
    "import warnings; warnings.simplefilter('ignore')"
   ]
  },
  {
   "cell_type": "markdown",
   "metadata": {
    "nbpresent": {
     "id": "6c56d43f-75f2-4234-94b4-dd6b8f4f506a"
    }
   },
   "source": [
    "### Density of states\n",
    "\n",
    "Density of states is the number of levels (states) per interval of energy.\n",
    "\n",
    "A high DOS at a specific energy level means that there are many states. A DOS of zero means that no energy levels. \n",
    "\n",
    "Generally, the density of states of matter is continuous. In isolated systems however, like individual atoms or molecules, the density distribution is discrete like a spectral density."
   ]
  },
  {
   "cell_type": "markdown",
   "metadata": {
    "nbpresent": {
     "id": "e9e29945-8661-4a0c-b440-23bea4176586"
    }
   },
   "source": [
    "### Single phosphorus atom"
   ]
  },
  {
   "cell_type": "code",
   "execution_count": 2,
   "metadata": {
    "nbpresent": {
     "id": "04c803f1-f05f-4c74-963d-cc6a9586415a"
    }
   },
   "outputs": [
    {
     "data": {
      "image/png": "[encoded data removed]",
      "text/plain": [
       "<IPython.core.display.Image object>"
      ]
     },
     "metadata": {},
     "output_type": "display_data"
    },
    {
     "data": {
      "image/png": "[encoded data removed]",
      "text/plain": [
       "<matplotlib.figure.Figure at 0x7fd74806ea50>"
      ]
     },
     "metadata": {},
     "output_type": "display_data"
    }
   ],
   "source": [
    "#Define a single phosphorus atom\n",
    "\n",
    "sys = Atoms('P', positions=[(0, 0, 0)], cell=[10.0,10.1,10.2], pbc=[False,False,False])\n",
    "sys.center()\n",
    "write('P0D.png', sys)\n",
    "display(Image(filename='P0D.png'))\n",
    "\n",
    "#Define a calculator\n",
    "calc = GPAW(xc='LDA', \n",
    "            mode=\"lcao\",\n",
    "            basis='dzp',\n",
    "            hund=True,\n",
    "            txt=None)\n",
    "sys.set_calculator(calc)\n",
    "sys.get_potential_energy()\n",
    "\n",
    "#Get the Fermi energy\n",
    "\"\"\"The Fermi energy is a concept in quantum mechanics usually referring to the energy difference \n",
    "between the highest and lowest occupied single-particle states in a quantum system of non-interacting \n",
    "fermions at absolute zero temperature.\n",
    "The Fermi level is a total energy level including kinetic energy and potential energy.\"\"\"\n",
    "EF = calc.get_fermi_level()\n",
    "\n",
    "#Get the DOS\n",
    "en, dos = calc.get_orbital_ldos(0, spin=0, angular='sp', width=0.1, npts=2001)\n",
    "Sdos = list(np.array([0]*len(dos)) + calc.get_orbital_ldos(0, spin=0, angular='s', width=0.1, npts=2001)[1])\n",
    "Pdos = list(np.array([0]*len(dos)) + calc.get_orbital_ldos(0, spin=0, angular='p', width=0.1, npts=2001)[1])\n",
    "\n",
    "#Plot the LDOS by orbitals (s and p)\n",
    "plt.plot(Sdos/np.sum(Sdos)*1, en, 'r-', linewidth = 2.0, label = 's')\n",
    "plt.fill_between(Sdos/np.sum(Sdos)*1, 0, en, linewidth=0, facecolor='r', alpha=0.2)\n",
    "plt.plot(Pdos/np.sum(Pdos)*3, en, 'b-', linewidth = 2.0, label = 'p')\n",
    "plt.fill_between(Pdos/np.sum(Pdos)*3, 0, en, linewidth=0, facecolor='b', alpha=0.2)\n",
    "plt.axhline(y=EF, color='k', linestyle='--')\n",
    "\n",
    "#plt.ylim(-7,7)\n",
    "plt.xlabel('LDOS')\n",
    "plt.ylabel('$E - E_\\mathrm{F}$ / eV')\n",
    "plt.legend(loc='best')\n",
    "plt.show()"
   ]
  },
  {
   "cell_type": "markdown",
   "metadata": {
    "nbpresent": {
     "id": "82bfea88-364e-4be5-8e78-2e386543083b"
    }
   },
   "source": [
    "### Two phosphorus atoms (diatomic)"
   ]
  },
  {
   "cell_type": "code",
   "execution_count": null,
   "metadata": {
    "nbpresent": {
     "id": "a0d4b652-ed3e-4694-9061-daa3afb990df"
    }
   },
   "outputs": [
    {
     "data": {
      "image/png": "[encoded data removed]",
      "text/plain": [
       "<IPython.core.display.Image object>"
      ]
     },
     "metadata": {},
     "output_type": "display_data"
    },
    {
     "data": {
      "image/png": "[encoded data removed]",
      "text/plain": [
       "<matplotlib.figure.Figure at 0x7fd747759a90>"
      ]
     },
     "metadata": {},
     "output_type": "display_data"
    }
   ],
   "source": [
    "#Define a phosphorus diatomic\n",
    "sys = Atoms('P2', positions=[(0, 0, 0), (1.911, 0, 0)], cell=[10.0,10.1,10.2], pbc=[0,0,0])\n",
    "sys.center()\n",
    "write('P_2.png', sys)\n",
    "display(Image(filename='P_2.png'))\n",
    "\n",
    "#Define a calculator\n",
    "calc = GPAW(xc='LDA', \n",
    "            mode='lcao',\n",
    "            basis='dzp',\n",
    "            txt=None)\n",
    "sys.set_calculator(calc)\n",
    "sys.get_potential_energy()\n",
    "\n",
    "#Get the Fermi energy\n",
    "EF = calc.get_fermi_level()\n",
    "\n",
    "#Get the DOS\n",
    "en, dos = calc.get_orbital_ldos(0, spin=0, angular='sp', width=0.1, npts=2001)\n",
    "Sdos = list(np.array([0]*len(dos)) + calc.get_orbital_ldos(0, spin=0, angular='s', width=0.1, npts=2001)[1])\n",
    "Pdos = list(np.array([0]*len(dos)) + calc.get_orbital_ldos(0, spin=0, angular='p', width=0.1, npts=2001)[1])\n",
    "\n",
    "#Plot the LDOS by orbitals (s and p)\n",
    "plt.plot(Sdos/np.sum(Sdos)*1, en, 'r-', linewidth = 2.0, label = 's')\n",
    "plt.fill_between(Sdos/np.sum(Sdos)*1, 0, en, linewidth=0, facecolor='r', alpha=0.2)\n",
    "plt.plot(Pdos/np.sum(Pdos)*3, en, 'b-', linewidth = 2.0, label = 'p')\n",
    "plt.fill_between(Pdos/np.sum(Pdos)*3, 0, en, linewidth=0, facecolor='b', alpha=0.2)\n",
    "plt.axhline(y=EF, color='k', linestyle='--')\n",
    "\n",
    "#plt.ylim(-7,7)\n",
    "plt.xlabel('LDOS')\n",
    "plt.ylabel('energy / eV')\n",
    "plt.legend(loc='best')\n",
    "plt.show()"
   ]
  },
  {
   "cell_type": "markdown",
   "metadata": {
    "nbpresent": {
     "id": "7bb00ead-8634-42da-8303-cad8036fcc15"
    }
   },
   "source": [
    "### 1D lithuim wire"
   ]
  },
  {
   "cell_type": "code",
   "execution_count": null,
   "metadata": {
    "nbpresent": {
     "id": "9d7c097d-f0d7-451b-8136-1d2b8a1e17f1"
    }
   },
   "outputs": [
    {
     "data": {
      "image/png": "[encoded data removed]",
      "text/plain": [
       "<IPython.core.display.Image object>"
      ]
     },
     "metadata": {},
     "output_type": "display_data"
    }
   ],
   "source": [
    "#Define a lithium wire\n",
    "sys = Atoms('P4', positions=[(0.000,  1.062,  0.355), (0.000, -1.062, -0.355), (1.657,  1.062,  1.833), (1.657, -1.062,  2.543)], cell=[(1.657*3,-5.24*3,0), (1.657*3,5.24*3,0), (0,0,4.376)], pbc=[False,False,True])\n",
    "sys.center()\n",
    "write('P1D.png', sys*(1,1,5))\n",
    "display(Image(filename='P1D.png'))\n",
    "\n",
    "#Define a calculator\n",
    "calc = GPAW(xc='LDA', \n",
    "            mode='lcao',\n",
    "            kpts=(1,1,64),\n",
    "            basis='dzp',\n",
    "            txt=None)\n",
    "sys.set_calculator(calc)\n",
    "sys.get_potential_energy()\n",
    "\n",
    "#Get the Fermi energy\n",
    "EF = calc.get_fermi_level()\n",
    "\n",
    "#Get the DOS\n",
    "en, dos = calc.get_orbital_ldos(0, spin=0, angular='spd', width=0.2, npts=2001)\n",
    "Sdos = list(np.array([0]*len(dos)) + calc.get_orbital_ldos(0, spin=0, angular='s', width=0.2, npts=2001)[1])\n",
    "Pdos = list(np.array([0]*len(dos)) + calc.get_orbital_ldos(0, spin=0, angular='p', width=0.2, npts=2001)[1])\n",
    "Ddos = list(np.array([0]*len(dos)) + calc.get_orbital_ldos(0, spin=0, angular='d', width=0.2, npts=2001)[1])\n",
    "\n",
    "#Plot the LDOS by orbitals (s and p)\n",
    "plt.plot(Sdos/np.sum(Sdos)*1, en, 'r-', linewidth = 2.0, label = 's')\n",
    "plt.fill_between(Sdos/np.sum(Sdos)*1, 0, en, linewidth=0, facecolor='r', alpha=0.2)\n",
    "plt.plot(Pdos/np.sum(Pdos)*3, en, 'b-', linewidth = 2.0, label = 'p')\n",
    "plt.fill_between(Pdos/np.sum(Pdos)*3, 0, en, linewidth=0, facecolor='b', alpha=0.2)\n",
    "plt.plot(Ddos/np.sum(Ddos)*5, en, 'g-', linewidth = 2.0, label = 'd')\n",
    "plt.fill_between(Ddos/np.sum(Ddos)*3, 0, en, linewidth=0, facecolor='g', alpha=0.2)\n",
    "plt.axhline(y=0, color='k', linestyle='--')\n",
    "\n",
    "#plt.ylim(-7,7)\n",
    "plt.xlabel('LDOS')\n",
    "plt.ylabel('energy / eV')\n",
    "plt.legend(loc='best')\n",
    "plt.show()"
   ]
  },
  {
   "cell_type": "markdown",
   "metadata": {
    "nbpresent": {
     "id": "dfab2048-02df-4c38-9c6c-1f33a88977af"
    }
   },
   "source": [
    "### 2D phosphorus slab"
   ]
  },
  {
   "cell_type": "code",
   "execution_count": null,
   "metadata": {
    "nbpresent": {
     "id": "470bd756-0b14-45ed-b24c-0c2b4ef5e14c"
    }
   },
   "outputs": [],
   "source": [
    "#Define a phosphorus slab\n",
    "sys = Atoms('P4', positions=[(0.000,  1.062,  0.355), (0.000, -1.062, -0.355), (1.657,  1.062,  1.833), (1.657, -1.062,  2.543)], cell=[3.314,10,4.376], pbc=[True,False,True])\n",
    "sys.center()\n",
    "write('P2D.png', sys*(5,1,5))\n",
    "display(Image(filename='P2D.png'))\n",
    "\n",
    "#Define a calculator\n",
    "calc = GPAW(xc='LDA', \n",
    "            mode='lcao',\n",
    "            kpts=(4,1,4),\n",
    "            basis='dzp',\n",
    "            txt=None)\n",
    "sys.set_calculator(calc)\n",
    "sys.get_potential_energy()\n",
    "\n",
    "#Get the Fermi energy\n",
    "EF = calc.get_fermi_level()\n",
    "\n",
    "#Get the DOS\n",
    "en, dos = calc.get_orbital_ldos(0, spin=0, angular='spd', width=0.2, npts=2001)\n",
    "Sdos = list(np.array([0]*len(dos)) + calc.get_orbital_ldos(0, spin=0, angular='s', width=0.2, npts=2001)[1])\n",
    "Pdos = list(np.array([0]*len(dos)) + calc.get_orbital_ldos(0, spin=0, angular='p', width=0.2, npts=2001)[1])\n",
    "Ddos = list(np.array([0]*len(dos)) + calc.get_orbital_ldos(0, spin=0, angular='d', width=0.2, npts=2001)[1])\n",
    "\n",
    "#Plot the LDOS by orbitals (s and p)\n",
    "plt.plot(Sdos/np.sum(Sdos)*1, en-EF, 'r-', linewidth = 2.0, label = 's')\n",
    "plt.fill_between(Sdos/np.sum(Sdos)*1, 0, en-EF, linewidth=0, facecolor='r', alpha=0.2)\n",
    "plt.plot(Pdos/np.sum(Pdos)*3, en-EF, 'b-', linewidth = 2.0, label = 'p')\n",
    "plt.fill_between(Pdos/np.sum(Pdos)*3, 0, en-EF, linewidth=0, facecolor='b', alpha=0.2)\n",
    "plt.plot(Ddos/np.sum(Ddos)*5, en-EF, 'g-', linewidth = 2.0, label = 'd')\n",
    "plt.fill_between(Ddos/np.sum(Ddos)*3, 0, en-EF, linewidth=0, facecolor='g', alpha=0.2)\n",
    "plt.axhline(y=0, color='k', linestyle='--')\n",
    "\n",
    "#plt.ylim(-7,7)\n",
    "plt.xlabel('LDOS')\n",
    "plt.ylabel('energy / eV')\n",
    "plt.legend(loc='best')\n",
    "plt.show()"
   ]
  },
  {
   "cell_type": "markdown",
   "metadata": {
    "nbpresent": {
     "id": "f79d1b75-79a6-4f0f-8910-8b04b86e24fe"
    }
   },
   "source": [
    "### 3D lithium BCC crystal"
   ]
  },
  {
   "cell_type": "code",
   "execution_count": null,
   "metadata": {
    "nbpresent": {
     "id": "17169769-2aee-4415-a153-3efee516eb8b"
    },
    "scrolled": false
   },
   "outputs": [],
   "source": [
    "#Define a lithium BCC crystal\n",
    "sys = Atoms('P4', positions=[(0.000,  1.062,  0.355), (0.000, -1.062, -0.355), (1.657,  1.062,  1.833), (1.657, -1.062,  2.543)], cell=[(1.657,-5.24,0), (1.657,5.24,0), (0,0,4.376)], pbc=[True,True,False])\n",
    "sys.pbc = (True,True,True) #periodic boundary conditions\n",
    "write('P3D.png', sys*(2,2,2))\n",
    "display(Image(filename='P3D.png'))\n",
    "\n",
    "#Define a calculator\n",
    "calc = GPAW(xc='LDA', \n",
    "            mode='lcao',\n",
    "            kpts=(8,8,8),\n",
    "            basis='dzp',\n",
    "            txt=None)\n",
    "sys.set_calculator(calc)\n",
    "sys.get_potential_energy()\n",
    "\n",
    "#Get the Fermi energy\n",
    "EF = calc.get_fermi_level()\n",
    "\n",
    "#Get the DOS\n",
    "en, dos = calc.get_orbital_ldos(0, spin=0, angular='spd', width=0.2, npts=2001)\n",
    "Sdos = list(np.array([0]*len(dos)) + calc.get_orbital_ldos(0, spin=0, angular='s', width=0.2, npts=2001)[1])\n",
    "Pdos = list(np.array([0]*len(dos)) + calc.get_orbital_ldos(0, spin=0, angular='p', width=0.2, npts=2001)[1])\n",
    "Ddos = list(np.array([0]*len(dos)) + calc.get_orbital_ldos(0, spin=0, angular='d', width=0.2, npts=2001)[1])\n",
    "\n",
    "#Plot the LDOS by orbitals (s and p)\n",
    "plt.plot(Sdos/np.sum(Sdos)*1, en-EF, 'r-', linewidth = 2.0, label = 's')\n",
    "plt.fill_between(Sdos/np.sum(Sdos)*1, 0, en-EF, linewidth=0, facecolor='r', alpha=0.2)\n",
    "plt.plot(Pdos/np.sum(Pdos)*3, en-EF, 'b-', linewidth = 2.0, label = 'p')\n",
    "plt.fill_between(Pdos/np.sum(Pdos)*3, 0, en-EF, linewidth=0, facecolor='b', alpha=0.2)\n",
    "plt.plot(Ddos/np.sum(Ddos)*5, en-EF, 'g-', linewidth = 2.0, label = 'd')\n",
    "plt.fill_between(Ddos/np.sum(Ddos)*3, 0, en-EF, linewidth=0, facecolor='g', alpha=0.2)\n",
    "plt.axhline(y=0, color='k', linestyle='--')\n",
    "\n",
    "#plt.ylim(-7,7)\n",
    "plt.xlabel('LDOS')\n",
    "plt.ylabel('$E - E_\\mathrm{F}$ / eV')\n",
    "plt.legend(loc='best')\n",
    "plt.show()"
   ]
  },
  {
   "cell_type": "code",
   "execution_count": null,
   "metadata": {},
   "outputs": [],
   "source": []
  }
 ],
 "metadata": {
  "anaconda-cloud": {},
  "kernelspec": {
   "display_name": "Python 2",
   "language": "python",
   "name": "python2"
  },
  "language_info": {
   "codemirror_mode": {
    "name": "ipython",
    "version": 2
   },
   "file_extension": ".py",
   "mimetype": "text/x-python",
   "name": "python",
   "nbconvert_exporter": "python",
   "pygments_lexer": "ipython2",
   "version": "2.7.14"
  },
  "nbpresent": {
   "slides": {
    "dbb194c3-50d1-4e6f-b532-98fadb9cff55": {
     "id": "dbb194c3-50d1-4e6f-b532-98fadb9cff55",
     "layout": "treemap",
     "prev": null,
     "regions": {
      "c60e2f3f-49b8-4f9d-a685-6f8abcdcd8bb": {
       "attrs": {
        "height": 1,
        "treemap:weight": 1,
        "width": 1,
        "x": 0,
        "y": 0
       },
       "id": "c60e2f3f-49b8-4f9d-a685-6f8abcdcd8bb"
      }
     },
     "theme": "5184ae6f-4b42-49cd-b505-8009515f3960"
    },
    "f47314c7-5846-42e5-99f7-d58030ae146a": {
     "id": "f47314c7-5846-42e5-99f7-d58030ae146a",
     "layout": "treemap",
     "prev": "dbb194c3-50d1-4e6f-b532-98fadb9cff55",
     "regions": {
      "f5a6900e-1fca-49ed-aa52-772f8bc34192": {
       "attrs": {
        "height": 1,
        "treemap:weight": 1,
        "width": 1,
        "x": 0,
        "y": 0
       },
       "id": "f5a6900e-1fca-49ed-aa52-772f8bc34192"
      }
     }
    }
   },
   "themes": {
    "default": "66f18f4e-3ca4-45ae-9c48-4f23479544c8",
    "theme": {
     "5184ae6f-4b42-49cd-b505-8009515f3960": {
      "id": "5184ae6f-4b42-49cd-b505-8009515f3960",
      "palette": {
       "19cc588f-0593-49c9-9f4b-e4d7cc113b1c": {
        "id": "19cc588f-0593-49c9-9f4b-e4d7cc113b1c",
        "rgb": [
         252,
         252,
         252
        ]
       },
       "31af15d2-7e15-44c5-ab5e-e04b16a89eff": {
        "id": "31af15d2-7e15-44c5-ab5e-e04b16a89eff",
        "rgb": [
         68,
         68,
         68
        ]
       },
       "50f92c45-a630-455b-aec3-788680ec7410": {
        "id": "50f92c45-a630-455b-aec3-788680ec7410",
        "rgb": [
         155,
         177,
         192
        ]
       },
       "c5cc3653-2ee1-402a-aba2-7caae1da4f6c": {
        "id": "c5cc3653-2ee1-402a-aba2-7caae1da4f6c",
        "rgb": [
         43,
         126,
         184
        ]
       },
       "efa7f048-9acb-414c-8b04-a26811511a21": {
        "id": "efa7f048-9acb-414c-8b04-a26811511a21",
        "rgb": [
         25.118061674008803,
         73.60176211453744,
         107.4819383259912
        ]
       }
      },
      "rules": {
       "blockquote": {
        "color": "50f92c45-a630-455b-aec3-788680ec7410"
       },
       "code": {
        "font-family": "Anonymous Pro"
       },
       "h1": {
        "color": "c5cc3653-2ee1-402a-aba2-7caae1da4f6c",
        "font-family": "Lato",
        "font-size": 8
       },
       "h2": {
        "color": "c5cc3653-2ee1-402a-aba2-7caae1da4f6c",
        "font-family": "Lato",
        "font-size": 6
       },
       "h3": {
        "color": "50f92c45-a630-455b-aec3-788680ec7410",
        "font-family": "Lato",
        "font-size": 5.5
       },
       "h4": {
        "color": "c5cc3653-2ee1-402a-aba2-7caae1da4f6c",
        "font-family": "Lato",
        "font-size": 5
       },
       "h5": {
        "font-family": "Lato"
       },
       "h6": {
        "font-family": "Lato"
       },
       "h7": {
        "font-family": "Lato"
       },
       "pre": {
        "font-family": "Anonymous Pro",
        "font-size": 4
       }
      },
      "text-base": {
       "font-family": "Merriweather",
       "font-size": 4
      }
     },
     "66f18f4e-3ca4-45ae-9c48-4f23479544c8": {
      "backgrounds": {
       "dc7afa04-bf90-40b1-82a5-726e3cff5267": {
        "background-color": "31af15d2-7e15-44c5-ab5e-e04b16a89eff",
        "id": "dc7afa04-bf90-40b1-82a5-726e3cff5267"
       }
      },
      "id": "66f18f4e-3ca4-45ae-9c48-4f23479544c8",
      "palette": {
       "19cc588f-0593-49c9-9f4b-e4d7cc113b1c": {
        "id": "19cc588f-0593-49c9-9f4b-e4d7cc113b1c",
        "rgb": [
         252,
         252,
         252
        ]
       },
       "31af15d2-7e15-44c5-ab5e-e04b16a89eff": {
        "id": "31af15d2-7e15-44c5-ab5e-e04b16a89eff",
        "rgb": [
         68,
         68,
         68
        ]
       },
       "50f92c45-a630-455b-aec3-788680ec7410": {
        "id": "50f92c45-a630-455b-aec3-788680ec7410",
        "rgb": [
         197,
         226,
         245
        ]
       },
       "c5cc3653-2ee1-402a-aba2-7caae1da4f6c": {
        "id": "c5cc3653-2ee1-402a-aba2-7caae1da4f6c",
        "rgb": [
         43,
         126,
         184
        ]
       },
       "efa7f048-9acb-414c-8b04-a26811511a21": {
        "id": "efa7f048-9acb-414c-8b04-a26811511a21",
        "rgb": [
         25.118061674008803,
         73.60176211453744,
         107.4819383259912
        ]
       }
      },
      "rules": {
       "a": {
        "color": "19cc588f-0593-49c9-9f4b-e4d7cc113b1c"
       },
       "blockquote": {
        "color": "50f92c45-a630-455b-aec3-788680ec7410",
        "font-size": 3
       },
       "code": {
        "font-family": "Anonymous Pro"
       },
       "h1": {
        "color": "19cc588f-0593-49c9-9f4b-e4d7cc113b1c",
        "font-family": "Merriweather",
        "font-size": 8
       },
       "h2": {
        "color": "19cc588f-0593-49c9-9f4b-e4d7cc113b1c",
        "font-family": "Merriweather",
        "font-size": 6
       },
       "h3": {
        "color": "50f92c45-a630-455b-aec3-788680ec7410",
        "font-family": "Lato",
        "font-size": 5.5
       },
       "h4": {
        "color": "c5cc3653-2ee1-402a-aba2-7caae1da4f6c",
        "font-family": "Lato",
        "font-size": 5
       },
       "h5": {
        "font-family": "Lato"
       },
       "h6": {
        "font-family": "Lato"
       },
       "h7": {
        "font-family": "Lato"
       },
       "li": {
        "color": "50f92c45-a630-455b-aec3-788680ec7410",
        "font-size": 3.25
       },
       "pre": {
        "font-family": "Anonymous Pro",
        "font-size": 4
       }
      },
      "text-base": {
       "color": "19cc588f-0593-49c9-9f4b-e4d7cc113b1c",
       "font-family": "Lato",
       "font-size": 4
      }
     }
    }
   }
  }
 },
 "nbformat": 4,
 "nbformat_minor": 1
}
